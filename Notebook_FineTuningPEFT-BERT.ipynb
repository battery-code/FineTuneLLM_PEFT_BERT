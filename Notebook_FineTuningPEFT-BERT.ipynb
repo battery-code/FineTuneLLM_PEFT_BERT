{
 "cells": [
  {
   "cell_type": "markdown",
   "id": "f35354cd",
   "metadata": {},
   "source": [
    "# Lightweight Fine-Tuning Project"
   ]
  },
  {
   "cell_type": "markdown",
   "id": "7bf828b2",
   "metadata": {},
   "source": [
    "### Fine Tune BERT for Sentiment Classification"
   ]
  },
  {
   "cell_type": "markdown",
   "id": "560fb3ff",
   "metadata": {},
   "source": [
    "\n",
    "* PEFT technique: Adapters, LoRA and QLoRA\n",
    "* Model: bert-base-uncased ~110M parameters\n",
    "     - bert-base-uncased is a encoder-only architecture LLM that is apt for sentiment analysis while GPT2 which is decoder-only is not ideal for discriminative task like sentiment analysis.\n",
    "     - bert-base-uncased will also fit comfortably in the Tesla T4 Udacity servers we students get.\n",
    "     \n",
    "* Evaluation approach: Accuracy, F1 Score and Confusion matrix\n",
    "* Fine-tuning dataset: subsample of stanfordnlp/imdb - \"IMDB movie reviews\""
   ]
  },
  {
   "cell_type": "markdown",
   "id": "73a3742d",
   "metadata": {},
   "source": [
    "### About the Dataset\n",
    "\n",
    "- Name: stanfordnlp/imdb\n",
    "\n",
    "- Desc: Description: Large Movie Review Dataset. This is a dataset for binary sentiment classification containing substantially more data than previous benchmark datasets. We provide a set of 25,000 highly polar movie reviews for training, and 25,000 for testing. There is additional unlabeled data for use as well.\n",
    "- Link: https://huggingface.co/datasets/stanfordnlp/imdb\n"
   ]
  },
  {
   "cell_type": "markdown",
   "id": "de8d76bb",
   "metadata": {},
   "source": [
    "## Loading and Evaluating a Foundation Model\n"
   ]
  },
  {
   "cell_type": "code",
   "execution_count": 1,
   "id": "2bd983e1",
   "metadata": {},
   "outputs": [],
   "source": [
    "# !pip install scikit-learn seaborn adapters\n",
    "# !pip install bitsandbytes>=0.43.2 --upgrade\n",
    "# !pip install -U accelerate\n",
    "# !pip uninstall -y triton\n",
    "# !pip install triton==2.1.0"
   ]
  },
  {
   "cell_type": "code",
   "execution_count": 2,
   "id": "61bb9085",
   "metadata": {},
   "outputs": [],
   "source": [
    "import torch\n",
    "import time\n",
    "import pandas as pd\n",
    "import numpy as np\n",
    "import matplotlib.pyplot as plt\n",
    "import seaborn as sns\n",
    "from sklearn.metrics import confusion_matrix, accuracy_score, f1_score"
   ]
  },
  {
   "cell_type": "code",
   "execution_count": 3,
   "id": "516e6aa7",
   "metadata": {},
   "outputs": [
    {
     "data": {
      "text/plain": [
       "'cuda'"
      ]
     },
     "execution_count": 3,
     "metadata": {},
     "output_type": "execute_result"
    }
   ],
   "source": [
    "device = \"cuda\" if torch.cuda.is_available() else \"cpu\"\n",
    "device"
   ]
  },
  {
   "cell_type": "code",
   "execution_count": 71,
   "id": "807be497",
   "metadata": {},
   "outputs": [],
   "source": [
    "# df to log experiment parameters\n",
    "columns = [\"Method\",\n",
    "        \"Trainable Parameters (Mil)\",\n",
    "        \"Trainable Parameters (%)\",\n",
    "        \"Training Time / Epoch (s)\",\n",
    "        \"Inference Time (s)\",\n",
    "        \"ModelParams_GPUMemoryUsage (MB)\",\n",
    "        \"PeakGPUMemoryUsage (MB)\",\n",
    "        \"Accuracy\",\n",
    "        \"F1 Score\"]\n",
    "\n",
    "explog_df = pd.DataFrame(columns = columns)"
   ]
  },
  {
   "cell_type": "code",
   "execution_count": 5,
   "id": "49b79274",
   "metadata": {},
   "outputs": [],
   "source": [
    "#Helper : source:https://huggingface.co/docs/transformers/main/en/quantization/bitsandbytes\n",
    "\n",
    "def calc_trainable_parameters(model):\n",
    "    \"\"\"\n",
    "    Calculate the number of trainable parameters in the model.\n",
    "    \"\"\"\n",
    "    trainable_params = 0\n",
    "    all_param = 0\n",
    "    for _, param in model.named_parameters():\n",
    "        all_param += param.numel()\n",
    "        if param.requires_grad:\n",
    "            trainable_params += param.numel()\n",
    "            \n",
    "    return (all_param, trainable_params,100 * trainable_params / all_param)"
   ]
  },
  {
   "cell_type": "code",
   "execution_count": 6,
   "id": "f28398fc",
   "metadata": {},
   "outputs": [],
   "source": [
    "#Helper Function to print conf matrix\n",
    "def plot_confusion_matrix(y_true, y_pred, name):\n",
    "    \"\"\"\n",
    "    Plot a custom-labeled confusion matrix heatmap.\n",
    "    \"\"\"\n",
    "    conf_matrix = confusion_matrix(y_true, y_pred)\n",
    "    \n",
    "    # Custom labels\n",
    "    label_names = ['True Neg', 'False Pos', 'False Neg', 'True Pos']\n",
    "    label_counts = [\"{0:0.0f}\".format(val) for val in conf_matrix.flatten()]\n",
    "    labels = [f\"{n}\\n{c}\" for n, c in zip(label_names, label_counts)]\n",
    "    labels = np.array(labels).reshape(2, 2)\n",
    "\n",
    "    # Plot\n",
    "    plt.figure(figsize=(4, 3))\n",
    "    sns.heatmap(conf_matrix, annot=labels, fmt='', cmap='Blues', cbar=False)\n",
    "    plt.xlabel(\"Predicted\")\n",
    "    plt.ylabel(\"Actual\")\n",
    "    plt.title(f\"Confusion Matrix - {name}\")\n",
    "    plt.tight_layout()\n",
    "    plt.show()"
   ]
  },
  {
   "cell_type": "code",
   "execution_count": 7,
   "id": "132ce205",
   "metadata": {},
   "outputs": [],
   "source": [
    "# Number of Epochs for Training each model\n",
    "num_epoch = 3"
   ]
  },
  {
   "cell_type": "markdown",
   "id": "3cfbc41c",
   "metadata": {},
   "source": [
    "### Load Dataset and EDA\n",
    "We'll use the Hugging Face datasets library to load the dataset."
   ]
  },
  {
   "cell_type": "code",
   "execution_count": 8,
   "id": "4935cb4d",
   "metadata": {},
   "outputs": [],
   "source": [
    "from datasets import load_dataset\n",
    "\n",
    "# Load dataset\n",
    "dataset = load_dataset(\"stanfordnlp/imdb\")"
   ]
  },
  {
   "cell_type": "code",
   "execution_count": 9,
   "id": "15f90c82",
   "metadata": {},
   "outputs": [],
   "source": [
    "df_train = pd.DataFrame(dataset['train'])\n",
    "df_test = pd.DataFrame(dataset['test'])\n",
    "\n",
    "df_train.rename(columns={\"label\":'labels'}, inplace=True) #For Trainer compatibility\n",
    "df_test.rename(columns={\"label\":'labels'}, inplace=True)"
   ]
  },
  {
   "cell_type": "markdown",
   "id": "c525cd3d",
   "metadata": {},
   "source": [
    "---"
   ]
  },
  {
   "cell_type": "code",
   "execution_count": 10,
   "id": "2bf682e9",
   "metadata": {},
   "outputs": [
    {
     "name": "stdout",
     "output_type": "stream",
     "text": [
      "\n",
      "Review Length Stats:\n",
      "count    25000.000000\n",
      "mean       233.787200\n",
      "std        173.733032\n",
      "min         10.000000\n",
      "25%        127.000000\n",
      "50%        174.000000\n",
      "75%        284.000000\n",
      "max       2470.000000\n",
      "Name: length, dtype: float64\n"
     ]
    }
   ],
   "source": [
    "# Review lengths\n",
    "df_train['length'] = df_train['text'].apply(lambda x: len(x.split()))\n",
    "\n",
    "print(\"\\nReview Length Stats:\")\n",
    "print(df_train['length'].describe())"
   ]
  },
  {
   "cell_type": "code",
   "execution_count": 11,
   "id": "8d18e28d",
   "metadata": {},
   "outputs": [
    {
     "name": "stdout",
     "output_type": "stream",
     "text": [
      "\n",
      "Review Length Stats:\n",
      "count    25000.000000\n",
      "mean       228.526680\n",
      "std        168.883693\n",
      "min          4.000000\n",
      "25%        126.000000\n",
      "50%        172.000000\n",
      "75%        277.000000\n",
      "max       2278.000000\n",
      "Name: length, dtype: float64\n"
     ]
    }
   ],
   "source": [
    "# Review lengths\n",
    "df_test['length'] = df_test['text'].apply(lambda x: len(x.split()))\n",
    "\n",
    "print(\"\\nReview Length Stats:\")\n",
    "print(df_test['length'].describe())"
   ]
  },
  {
   "cell_type": "code",
   "execution_count": 12,
   "id": "4cdb9457",
   "metadata": {},
   "outputs": [
    {
     "data": {
      "text/html": [
       "<div>\n",
       "<style scoped>\n",
       "    .dataframe tbody tr th:only-of-type {\n",
       "        vertical-align: middle;\n",
       "    }\n",
       "\n",
       "    .dataframe tbody tr th {\n",
       "        vertical-align: top;\n",
       "    }\n",
       "\n",
       "    .dataframe thead th {\n",
       "        text-align: right;\n",
       "    }\n",
       "</style>\n",
       "<table border=\"1\" class=\"dataframe\">\n",
       "  <thead>\n",
       "    <tr style=\"text-align: right;\">\n",
       "      <th></th>\n",
       "      <th>text</th>\n",
       "      <th>labels</th>\n",
       "      <th>length</th>\n",
       "    </tr>\n",
       "  </thead>\n",
       "  <tbody>\n",
       "    <tr>\n",
       "      <th>16689</th>\n",
       "      <td>Obviously written for the stage. Lightweight b...</td>\n",
       "      <td>1</td>\n",
       "      <td>20</td>\n",
       "    </tr>\n",
       "    <tr>\n",
       "      <th>17069</th>\n",
       "      <td>Adrian Pasdar is excellent is this film. He ma...</td>\n",
       "      <td>1</td>\n",
       "      <td>12</td>\n",
       "    </tr>\n",
       "    <tr>\n",
       "      <th>20674</th>\n",
       "      <td>Brilliant movie. The drawings were just amazin...</td>\n",
       "      <td>1</td>\n",
       "      <td>23</td>\n",
       "    </tr>\n",
       "    <tr>\n",
       "      <th>21158</th>\n",
       "      <td>Excellent episode movie ala Pulp Fiction. 7 da...</td>\n",
       "      <td>1</td>\n",
       "      <td>24</td>\n",
       "    </tr>\n",
       "    <tr>\n",
       "      <th>23206</th>\n",
       "      <td>This movie will always be a Broadway and Movie...</td>\n",
       "      <td>1</td>\n",
       "      <td>22</td>\n",
       "    </tr>\n",
       "  </tbody>\n",
       "</table>\n",
       "</div>"
      ],
      "text/plain": [
       "                                                    text  labels  length\n",
       "16689  Obviously written for the stage. Lightweight b...       1      20\n",
       "17069  Adrian Pasdar is excellent is this film. He ma...       1      12\n",
       "20674  Brilliant movie. The drawings were just amazin...       1      23\n",
       "21158  Excellent episode movie ala Pulp Fiction. 7 da...       1      24\n",
       "23206  This movie will always be a Broadway and Movie...       1      22"
      ]
     },
     "execution_count": 12,
     "metadata": {},
     "output_type": "execute_result"
    }
   ],
   "source": [
    "df_train[df_train['length'] < 25].tail(5)"
   ]
  },
  {
   "cell_type": "code",
   "execution_count": 13,
   "id": "d9da263e",
   "metadata": {},
   "outputs": [
    {
     "name": "stdout",
     "output_type": "stream",
     "text": [
      "Class Distribution:\n",
      " labels\n",
      "0    12500\n",
      "1    12500\n",
      "Name: count, dtype: int64\n"
     ]
    }
   ],
   "source": [
    "# Class Distribution\n",
    "class_counts = df_train['labels'].value_counts()\n",
    "print(\"Class Distribution:\\n\", class_counts)"
   ]
  },
  {
   "cell_type": "code",
   "execution_count": 14,
   "id": "ac2d9756",
   "metadata": {},
   "outputs": [
    {
     "data": {
      "text/plain": [
       "(376.0, 368.0)"
      ]
     },
     "execution_count": 14,
     "metadata": {},
     "output_type": "execute_result"
    }
   ],
   "source": [
    "df_train['length'].quantile(0.85), df_test['length'].quantile(0.85)"
   ]
  },
  {
   "cell_type": "code",
   "execution_count": 15,
   "id": "77f4c482",
   "metadata": {},
   "outputs": [
    {
     "data": {
      "text/plain": [
       "(25000, 3)"
      ]
     },
     "execution_count": 15,
     "metadata": {},
     "output_type": "execute_result"
    }
   ],
   "source": [
    "df_train.shape"
   ]
  },
  {
   "cell_type": "markdown",
   "id": "3f1a420a",
   "metadata": {},
   "source": [
    "### Sub-Sampling\n",
    "\n",
    "- BERT model Context window size / Max sequence length is 512 and so any input greater than 512 tokens gets truncated hence we need to preprocess data to fit this constraint. \n",
    "- Each word gets tokenized on average into 3 to 4 subwords by the subword tokenization process and hence 512 / 1.4 = 365 words.  - Hence removing all reviews that are greater than 365 words to fit the BERT Context window size"
   ]
  },
  {
   "cell_type": "code",
   "execution_count": 16,
   "id": "c2b21c65",
   "metadata": {},
   "outputs": [],
   "source": [
    "df_train = df_train[df_train['length'] < 365]\n",
    "df_test = df_test[df_test['length'] < 365]"
   ]
  },
  {
   "cell_type": "code",
   "execution_count": 17,
   "id": "6d931b78",
   "metadata": {},
   "outputs": [
    {
     "data": {
      "text/html": [
       "<div>\n",
       "<style scoped>\n",
       "    .dataframe tbody tr th:only-of-type {\n",
       "        vertical-align: middle;\n",
       "    }\n",
       "\n",
       "    .dataframe tbody tr th {\n",
       "        vertical-align: top;\n",
       "    }\n",
       "\n",
       "    .dataframe thead th {\n",
       "        text-align: right;\n",
       "    }\n",
       "</style>\n",
       "<table border=\"1\" class=\"dataframe\">\n",
       "  <thead>\n",
       "    <tr style=\"text-align: right;\">\n",
       "      <th></th>\n",
       "      <th>text</th>\n",
       "      <th>labels</th>\n",
       "      <th>length</th>\n",
       "    </tr>\n",
       "  </thead>\n",
       "  <tbody>\n",
       "    <tr>\n",
       "      <th>0</th>\n",
       "      <td>I rented I AM CURIOUS-YELLOW from my video sto...</td>\n",
       "      <td>0</td>\n",
       "      <td>288</td>\n",
       "    </tr>\n",
       "    <tr>\n",
       "      <th>1</th>\n",
       "      <td>\"I Am Curious: Yellow\" is a risible and preten...</td>\n",
       "      <td>0</td>\n",
       "      <td>214</td>\n",
       "    </tr>\n",
       "  </tbody>\n",
       "</table>\n",
       "</div>"
      ],
      "text/plain": [
       "                                                text  labels  length\n",
       "0  I rented I AM CURIOUS-YELLOW from my video sto...       0     288\n",
       "1  \"I Am Curious: Yellow\" is a risible and preten...       0     214"
      ]
     },
     "execution_count": 17,
     "metadata": {},
     "output_type": "execute_result"
    }
   ],
   "source": [
    "df_train.head(2)"
   ]
  },
  {
   "cell_type": "code",
   "execution_count": 18,
   "id": "1a1c47e2",
   "metadata": {},
   "outputs": [
    {
     "data": {
      "text/plain": [
       "(20990, 3)"
      ]
     },
     "execution_count": 18,
     "metadata": {},
     "output_type": "execute_result"
    }
   ],
   "source": [
    "df_train.shape"
   ]
  },
  {
   "cell_type": "markdown",
   "id": "879ddcc0",
   "metadata": {},
   "source": [
    "#### Stratified Sampling - Keep class balance equal"
   ]
  },
  {
   "cell_type": "code",
   "execution_count": 19,
   "id": "b0e7dc66",
   "metadata": {},
   "outputs": [
    {
     "name": "stdout",
     "output_type": "stream",
     "text": [
      "Sampled Class Distribution:\n",
      "labels\n",
      "0    2524\n",
      "1    2476\n",
      "Name: count, dtype: int64 labels\n",
      "0    2510\n",
      "1    2490\n",
      "Name: count, dtype: int64\n"
     ]
    }
   ],
   "source": [
    "from sklearn.model_selection import train_test_split\n",
    "\n",
    "# Sample size per class\n",
    "samples_per_class = 2500\n",
    "\n",
    "# Stratified sampling\n",
    "df_train_sampled, _ = train_test_split(\n",
    "    df_train,\n",
    "    stratify=df_train['labels'],\n",
    "    train_size=samples_per_class * 2,  # total size\n",
    "    random_state=42\n",
    ")\n",
    "\n",
    "df_test_sampled, _ = train_test_split(\n",
    "    df_test,\n",
    "    stratify=df_test['labels'],\n",
    "    train_size=samples_per_class * 2,  # total size\n",
    "    random_state=42\n",
    ")\n",
    "\n",
    "# Class Distribution\n",
    "print(\"Sampled Class Distribution:\")\n",
    "print(df_train_sampled['labels'].value_counts(),df_test_sampled['labels'].value_counts() )\n"
   ]
  },
  {
   "cell_type": "code",
   "execution_count": 20,
   "id": "3a620421",
   "metadata": {},
   "outputs": [
    {
     "data": {
      "text/html": [
       "<div>\n",
       "<style scoped>\n",
       "    .dataframe tbody tr th:only-of-type {\n",
       "        vertical-align: middle;\n",
       "    }\n",
       "\n",
       "    .dataframe tbody tr th {\n",
       "        vertical-align: top;\n",
       "    }\n",
       "\n",
       "    .dataframe thead th {\n",
       "        text-align: right;\n",
       "    }\n",
       "</style>\n",
       "<table border=\"1\" class=\"dataframe\">\n",
       "  <thead>\n",
       "    <tr style=\"text-align: right;\">\n",
       "      <th></th>\n",
       "      <th>text</th>\n",
       "      <th>labels</th>\n",
       "      <th>length</th>\n",
       "    </tr>\n",
       "  </thead>\n",
       "  <tbody>\n",
       "    <tr>\n",
       "      <th>607</th>\n",
       "      <td>PROS: Akshay Kumar's performance(is it just me...</td>\n",
       "      <td>0</td>\n",
       "      <td>355</td>\n",
       "    </tr>\n",
       "    <tr>\n",
       "      <th>20582</th>\n",
       "      <td>The brilliance of this movie is that even a co...</td>\n",
       "      <td>1</td>\n",
       "      <td>146</td>\n",
       "    </tr>\n",
       "  </tbody>\n",
       "</table>\n",
       "</div>"
      ],
      "text/plain": [
       "                                                    text  labels  length\n",
       "607    PROS: Akshay Kumar's performance(is it just me...       0     355\n",
       "20582  The brilliance of this movie is that even a co...       1     146"
      ]
     },
     "execution_count": 20,
     "metadata": {},
     "output_type": "execute_result"
    }
   ],
   "source": [
    "df_train_sampled.head(2)"
   ]
  },
  {
   "cell_type": "code",
   "execution_count": 21,
   "id": "008d883b",
   "metadata": {},
   "outputs": [
    {
     "data": {
      "text/html": [
       "<div>\n",
       "<style scoped>\n",
       "    .dataframe tbody tr th:only-of-type {\n",
       "        vertical-align: middle;\n",
       "    }\n",
       "\n",
       "    .dataframe tbody tr th {\n",
       "        vertical-align: top;\n",
       "    }\n",
       "\n",
       "    .dataframe thead th {\n",
       "        text-align: right;\n",
       "    }\n",
       "</style>\n",
       "<table border=\"1\" class=\"dataframe\">\n",
       "  <thead>\n",
       "    <tr style=\"text-align: right;\">\n",
       "      <th></th>\n",
       "      <th>text</th>\n",
       "      <th>labels</th>\n",
       "      <th>length</th>\n",
       "    </tr>\n",
       "  </thead>\n",
       "  <tbody>\n",
       "    <tr>\n",
       "      <th>1935</th>\n",
       "      <td>This was the most uninteresting horror flick I...</td>\n",
       "      <td>0</td>\n",
       "      <td>146</td>\n",
       "    </tr>\n",
       "    <tr>\n",
       "      <th>21148</th>\n",
       "      <td>Although copies of this movie are hard to find...</td>\n",
       "      <td>1</td>\n",
       "      <td>108</td>\n",
       "    </tr>\n",
       "  </tbody>\n",
       "</table>\n",
       "</div>"
      ],
      "text/plain": [
       "                                                    text  labels  length\n",
       "1935   This was the most uninteresting horror flick I...       0     146\n",
       "21148  Although copies of this movie are hard to find...       1     108"
      ]
     },
     "execution_count": 21,
     "metadata": {},
     "output_type": "execute_result"
    }
   ],
   "source": [
    "df_test_sampled.head(2)"
   ]
  },
  {
   "cell_type": "code",
   "execution_count": 22,
   "id": "dabb0e0c",
   "metadata": {},
   "outputs": [
    {
     "data": {
      "image/png": "[encoded data removed]",
      "text/plain": [
       "<Figure size 700x300 with 1 Axes>"
      ]
     },
     "metadata": {},
     "output_type": "display_data"
    }
   ],
   "source": [
    "import matplotlib.pyplot as plt\n",
    "import seaborn as sns\n",
    "\n",
    "plt.figure(figsize=(7, 3))\n",
    "sns.histplot(df_train_sampled['length'], bins=50, kde=True)\n",
    "plt.title(\"Distribution of Review Lengths\")\n",
    "plt.xlabel(\"Number of Words\")\n",
    "plt.ylabel(\"Frequency\")\n",
    "plt.grid(True)\n",
    "plt.show()\n"
   ]
  }
 ],
 "metadata": {
  "kernelspec": {
   "display_name": "Python 3 (ipykernel)",
   "language": "python",
   "name": "python3"
  },
  "language_info": {
   "codemirror_mode": {
    "name": "ipython",
    "version": 3
   },
   "file_extension": ".py",
   "mimetype": "text/x-python",
   "name": "python",
   "nbconvert_exporter": "python",
   "pygments_lexer": "ipython3",
   "version": "3.10.11"
  }
 },
 "nbformat": 4,
 "nbformat_minor": 5
}
