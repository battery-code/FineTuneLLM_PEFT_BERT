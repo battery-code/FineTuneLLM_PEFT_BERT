{
 "cells": [
  {
   "cell_type": "markdown",
   "id": "f35354cd",
   "metadata": {},
   "source": [
    "# Lightweight Fine-Tuning Project"
   ]
  },
  {
   "cell_type": "markdown",
   "id": "7bf828b2",
   "metadata": {},
   "source": [
    "### Fine Tune BERT for Sentiment Classification"
   ]
  },
  {
   "cell_type": "markdown",
   "id": "560fb3ff",
   "metadata": {},
   "source": [
    "\n",
    "* PEFT technique: Adapters, LoRA and QLoRA\n",
    "* Model: bert-base-uncased ~110M parameters\n",
    "     - bert-base-uncased is a encoder-only architecture LLM that is apt for sentiment analysis while GPT2 which is decoder-only is not ideal for discriminative task like sentiment analysis.\n",
    "     - bert-base-uncased will also fit comfortably in the Tesla T4 Udacity servers we students get.\n",
    "     \n",
    "* Evaluation approach: Accuracy, F1 Score and Confusion matrix\n",
    "* Fine-tuning dataset: subsample of stanfordnlp/imdb - \"IMDB movie reviews\""
   ]
  },
  {
   "cell_type": "markdown",
   "id": "73a3742d",
   "metadata": {},
   "source": [
    "### About the Dataset\n",
    "\n",
    "- Name: stanfordnlp/imdb\n",
    "\n",
    "- Desc: Description: Large Movie Review Dataset. This is a dataset for binary sentiment classification containing substantially more data than previous benchmark datasets. We provide a set of 25,000 highly polar movie reviews for training, and 25,000 for testing. There is additional unlabeled data for use as well.\n",
    "- Link: https://huggingface.co/datasets/stanfordnlp/imdb\n"
   ]
  },
  {
   "cell_type": "markdown",
   "id": "de8d76bb",
   "metadata": {},
   "source": [
    "## Loading and Evaluating a Foundation Model\n"
   ]
  },
  {
   "cell_type": "code",
   "execution_count": 1,
   "id": "2bd983e1",
   "metadata": {},
   "outputs": [],
   "source": [
    "# !pip install scikit-learn seaborn adapters\n",
    "# !pip install bitsandbytes>=0.43.2 --upgrade\n",
    "# !pip install -U accelerate\n",
    "# !pip uninstall -y triton\n",
    "# !pip install triton==2.1.0"
   ]
  },
  {
   "cell_type": "code",
   "execution_count": 2,
   "id": "61bb9085",
   "metadata": {},
   "outputs": [],
   "source": [
    "import torch\n",
    "import time\n",
    "import pandas as pd\n",
    "import numpy as np\n",
    "import matplotlib.pyplot as plt\n",
    "import seaborn as sns\n",
    "from sklearn.metrics import confusion_matrix, accuracy_score, f1_score"
   ]
  },
  {
   "cell_type": "code",
   "execution_count": 3,
   "id": "516e6aa7",
   "metadata": {},
   "outputs": [
    {
     "data": {
      "text/plain": [
       "'cuda'"
      ]
     },
     "execution_count": 3,
     "metadata": {},
     "output_type": "execute_result"
    }
   ],
   "source": [
    "device = \"cuda\" if torch.cuda.is_available() else \"cpu\"\n",
    "device"
   ]
  },
  {
   "cell_type": "code",
   "execution_count": 71,
   "id": "807be497",
   "metadata": {},
   "outputs": [],
   "source": [
    "# df to log experiment parameters\n",
    "columns = [\"Method\",\n",
    "        \"Trainable Parameters (Mil)\",\n",
    "        \"Trainable Parameters (%)\",\n",
    "        \"Training Time / Epoch (s)\",\n",
    "        \"Inference Time (s)\",\n",
    "        \"ModelParams_GPUMemoryUsage (MB)\",\n",
    "        \"PeakGPUMemoryUsage (MB)\",\n",
    "        \"Accuracy\",\n",
    "        \"F1 Score\"]\n",
    "\n",
    "explog_df = pd.DataFrame(columns = columns)"
   ]
  },
  {
   "cell_type": "code",
   "execution_count": 5,
   "id": "49b79274",
   "metadata": {},
   "outputs": [],
   "source": [
    "#Helper : source:https://huggingface.co/docs/transformers/main/en/quantization/bitsandbytes\n",
    "\n",
    "def calc_trainable_parameters(model):\n",
    "    \"\"\"\n",
    "    Calculate the number of trainable parameters in the model.\n",
    "    \"\"\"\n",
    "    trainable_params = 0\n",
    "    all_param = 0\n",
    "    for _, param in model.named_parameters():\n",
    "        all_param += param.numel()\n",
    "        if param.requires_grad:\n",
    "            trainable_params += param.numel()\n",
    "            \n",
    "    return (all_param, trainable_params,100 * trainable_params / all_param)"
   ]
  },
  {
   "cell_type": "code",
   "execution_count": 6,
   "id": "f28398fc",
   "metadata": {},
   "outputs": [],
   "source": [
    "#Helper Function to print conf matrix\n",
    "def plot_confusion_matrix(y_true, y_pred, name):\n",
    "    \"\"\"\n",
    "    Plot a custom-labeled confusion matrix heatmap.\n",
    "    \"\"\"\n",
    "    conf_matrix = confusion_matrix(y_true, y_pred)\n",
    "    \n",
    "    # Custom labels\n",
    "    label_names = ['True Neg', 'False Pos', 'False Neg', 'True Pos']\n",
    "    label_counts = [\"{0:0.0f}\".format(val) for val in conf_matrix.flatten()]\n",
    "    labels = [f\"{n}\\n{c}\" for n, c in zip(label_names, label_counts)]\n",
    "    labels = np.array(labels).reshape(2, 2)\n",
    "\n",
    "    # Plot\n",
    "    plt.figure(figsize=(4, 3))\n",
    "    sns.heatmap(conf_matrix, annot=labels, fmt='', cmap='Blues', cbar=False)\n",
    "    plt.xlabel(\"Predicted\")\n",
    "    plt.ylabel(\"Actual\")\n",
    "    plt.title(f\"Confusion Matrix - {name}\")\n",
    "    plt.tight_layout()\n",
    "    plt.show()"
   ]
  },
  {
   "cell_type": "code",
   "execution_count": 7,
   "id": "132ce205",
   "metadata": {},
   "outputs": [],
   "source": [
    "# Number of Epochs for Training each model\n",
    "num_epoch = 3"
   ]
  },
  {
   "cell_type": "markdown",
   "id": "3cfbc41c",
   "metadata": {},
   "source": [
    "### Load Dataset and EDA\n",
    "We'll use the Hugging Face datasets library to load the dataset."
   ]
  },
  {
   "cell_type": "code",
   "execution_count": 8,
   "id": "4935cb4d",
   "metadata": {},
   "outputs": [],
   "source": [
    "from datasets import load_dataset\n",
    "\n",
    "# Load dataset\n",
    "dataset = load_dataset(\"stanfordnlp/imdb\")"
   ]
  },
  {
   "cell_type": "code",
   "execution_count": 9,
   "id": "15f90c82",
   "metadata": {},
   "outputs": [],
   "source": [
    "df_train = pd.DataFrame(dataset['train'])\n",
    "df_test = pd.DataFrame(dataset['test'])\n",
    "\n",
    "df_train.rename(columns={\"label\":'labels'}, inplace=True) #For Trainer compatibility\n",
    "df_test.rename(columns={\"label\":'labels'}, inplace=True)"
   ]
  },
  {
   "cell_type": "markdown",
   "id": "c525cd3d",
   "metadata": {},
   "source": [
    "---"
   ]
  },
  {
   "cell_type": "code",
   "execution_count": 10,
   "id": "2bf682e9",
   "metadata": {},
   "outputs": [
    {
     "name": "stdout",
     "output_type": "stream",
     "text": [
      "\n",
      "Review Length Stats:\n",
      "count    25000.000000\n",
      "mean       233.787200\n",
      "std        173.733032\n",
      "min         10.000000\n",
      "25%        127.000000\n",
      "50%        174.000000\n",
      "75%        284.000000\n",
      "max       2470.000000\n",
      "Name: length, dtype: float64\n"
     ]
    }
   ],
   "source": [
    "# Review lengths\n",
    "df_train['length'] = df_train['text'].apply(lambda x: len(x.split()))\n",
    "\n",
    "print(\"\\nReview Length Stats:\")\n",
    "print(df_train['length'].describe())"
   ]
  },
  {
   "cell_type": "code",
   "execution_count": 11,
   "id": "8d18e28d",
   "metadata": {},
   "outputs": [
    {
     "name": "stdout",
     "output_type": "stream",
     "text": [
      "\n",
      "Review Length Stats:\n",
      "count    25000.000000\n",
      "mean       228.526680\n",
      "std        168.883693\n",
      "min          4.000000\n",
      "25%        126.000000\n",
      "50%        172.000000\n",
      "75%        277.000000\n",
      "max       2278.000000\n",
      "Name: length, dtype: float64\n"
     ]
    }
   ],
   "source": [
    "# Review lengths\n",
    "df_test['length'] = df_test['text'].apply(lambda x: len(x.split()))\n",
    "\n",
    "print(\"\\nReview Length Stats:\")\n",
    "print(df_test['length'].describe())"
   ]
  },
  {
   "cell_type": "code",
   "execution_count": 12,
   "id": "4cdb9457",
   "metadata": {},
   "outputs": [
    {
     "data": {
      "text/html": [
       "<div>\n",
       "<style scoped>\n",
       "    .dataframe tbody tr th:only-of-type {\n",
       "        vertical-align: middle;\n",
       "    }\n",
       "\n",
       "    .dataframe tbody tr th {\n",
       "        vertical-align: top;\n",
       "    }\n",
       "\n",
       "    .dataframe thead th {\n",
       "        text-align: right;\n",
       "    }\n",
       "</style>\n",
       "<table border=\"1\" class=\"dataframe\">\n",
       "  <thead>\n",
       "    <tr style=\"text-align: right;\">\n",
       "      <th></th>\n",
       "      <th>text</th>\n",
       "      <th>labels</th>\n",
       "      <th>length</th>\n",
       "    </tr>\n",
       "  </thead>\n",
       "  <tbody>\n",
       "    <tr>\n",
       "      <th>16689</th>\n",
       "      <td>Obviously written for the stage. Lightweight b...</td>\n",
       "      <td>1</td>\n",
       "      <td>20</td>\n",
       "    </tr>\n",
       "    <tr>\n",
       "      <th>17069</th>\n",
       "      <td>Adrian Pasdar is excellent is this film. He ma...</td>\n",
       "      <td>1</td>\n",
       "      <td>12</td>\n",
       "    </tr>\n",
       "    <tr>\n",
       "      <th>20674</th>\n",
       "      <td>Brilliant movie. The drawings were just amazin...</td>\n",
       "      <td>1</td>\n",
       "      <td>23</td>\n",
       "    </tr>\n",
       "    <tr>\n",
       "      <th>21158</th>\n",
       "      <td>Excellent episode movie ala Pulp Fiction. 7 da...</td>\n",
       "      <td>1</td>\n",
       "      <td>24</td>\n",
       "    </tr>\n",
       "    <tr>\n",
       "      <th>23206</th>\n",
       "      <td>This movie will always be a Broadway and Movie...</td>\n",
       "      <td>1</td>\n",
       "      <td>22</td>\n",
       "    </tr>\n",
       "  </tbody>\n",
       "</table>\n",
       "</div>"
      ],
      "text/plain": [
       "                                                    text  labels  length\n",
       "16689  Obviously written for the stage. Lightweight b...       1      20\n",
       "17069  Adrian Pasdar is excellent is this film. He ma...       1      12\n",
       "20674  Brilliant movie. The drawings were just amazin...       1      23\n",
       "21158  Excellent episode movie ala Pulp Fiction. 7 da...       1      24\n",
       "23206  This movie will always be a Broadway and Movie...       1      22"
      ]
     },
     "execution_count": 12,
     "metadata": {},
     "output_type": "execute_result"
    }
   ],
   "source": [
    "df_train[df_train['length'] < 25].tail(5)"
   ]
  },
  {
   "cell_type": "code",
   "execution_count": 13,
   "id": "d9da263e",
   "metadata": {},
   "outputs": [
    {
     "name": "stdout",
     "output_type": "stream",
     "text": [
      "Class Distribution:\n",
      " labels\n",
      "0    12500\n",
      "1    12500\n",
      "Name: count, dtype: int64\n"
     ]
    }
   ],
   "source": [
    "# Class Distribution\n",
    "class_counts = df_train['labels'].value_counts()\n",
    "print(\"Class Distribution:\\n\", class_counts)"
   ]
  },
  {
   "cell_type": "code",
   "execution_count": 14,
   "id": "ac2d9756",
   "metadata": {},
   "outputs": [
    {
     "data": {
      "text/plain": [
       "(376.0, 368.0)"
      ]
     },
     "execution_count": 14,
     "metadata": {},
     "output_type": "execute_result"
    }
   ],
   "source": [
    "df_train['length'].quantile(0.85), df_test['length'].quantile(0.85)"
   ]
  },
  {
   "cell_type": "code",
   "execution_count": 15,
   "id": "77f4c482",
   "metadata": {},
   "outputs": [
    {
     "data": {
      "text/plain": [
       "(25000, 3)"
      ]
     },
     "execution_count": 15,
     "metadata": {},
     "output_type": "execute_result"
    }
   ],
   "source": [
    "df_train.shape"
   ]
  },
  {
   "cell_type": "markdown",
   "id": "3f1a420a",
   "metadata": {},
   "source": [
    "### Sub-Sampling\n",
    "\n",
    "- BERT model Context window size / Max sequence length is 512 and so any input greater than 512 tokens gets truncated hence we need to preprocess data to fit this constraint. \n",
    "- Each word gets tokenized on average into 3 to 4 subwords by the subword tokenization process and hence 512 / 1.4 = 365 words.  - Hence removing all reviews that are greater than 365 words to fit the BERT Context window size"
   ]
  },
  {
   "cell_type": "code",
   "execution_count": 16,
   "id": "c2b21c65",
   "metadata": {},
   "outputs": [],
   "source": [
    "df_train = df_train[df_train['length'] < 365]\n",
    "df_test = df_test[df_test['length'] < 365]"
   ]
  },
  {
   "cell_type": "code",
   "execution_count": 17,
   "id": "6d931b78",
   "metadata": {},
   "outputs": [
    {
     "data": {
      "text/html": [
       "<div>\n",
       "<style scoped>\n",
       "    .dataframe tbody tr th:only-of-type {\n",
       "        vertical-align: middle;\n",
       "    }\n",
       "\n",
       "    .dataframe tbody tr th {\n",
       "        vertical-align: top;\n",
       "    }\n",
       "\n",
       "    .dataframe thead th {\n",
       "        text-align: right;\n",
       "    }\n",
       "</style>\n",
       "<table border=\"1\" class=\"dataframe\">\n",
       "  <thead>\n",
       "    <tr style=\"text-align: right;\">\n",
       "      <th></th>\n",
       "      <th>text</th>\n",
       "      <th>labels</th>\n",
       "      <th>length</th>\n",
       "    </tr>\n",
       "  </thead>\n",
       "  <tbody>\n",
       "    <tr>\n",
       "      <th>0</th>\n",
       "      <td>I rented I AM CURIOUS-YELLOW from my video sto...</td>\n",
       "      <td>0</td>\n",
       "      <td>288</td>\n",
       "    </tr>\n",
       "    <tr>\n",
       "      <th>1</th>\n",
       "      <td>\"I Am Curious: Yellow\" is a risible and preten...</td>\n",
       "      <td>0</td>\n",
       "      <td>214</td>\n",
       "    </tr>\n",
       "  </tbody>\n",
       "</table>\n",
       "</div>"
      ],
      "text/plain": [
       "                                                text  labels  length\n",
       "0  I rented I AM CURIOUS-YELLOW from my video sto...       0     288\n",
       "1  \"I Am Curious: Yellow\" is a risible and preten...       0     214"
      ]
     },
     "execution_count": 17,
     "metadata": {},
     "output_type": "execute_result"
    }
   ],
   "source": [
    "df_train.head(2)"
   ]
  },
  {
   "cell_type": "code",
   "execution_count": 18,
   "id": "1a1c47e2",
   "metadata": {},
   "outputs": [
    {
     "data": {
      "text/plain": [
       "(20990, 3)"
      ]
     },
     "execution_count": 18,
     "metadata": {},
     "output_type": "execute_result"
    }
   ],
   "source": [
    "df_train.shape"
   ]
  },
  {
   "cell_type": "markdown",
   "id": "879ddcc0",
   "metadata": {},
   "source": [
    "#### Stratified Sampling - Keep class balance equal"
   ]
  },
  {
   "cell_type": "code",
   "execution_count": 19,
   "id": "b0e7dc66",
   "metadata": {},
   "outputs": [
    {
     "name": "stdout",
     "output_type": "stream",
     "text": [
      "Sampled Class Distribution:\n",
      "labels\n",
      "0    2524\n",
      "1    2476\n",
      "Name: count, dtype: int64 labels\n",
      "0    2510\n",
      "1    2490\n",
      "Name: count, dtype: int64\n"
     ]
    }
   ],
   "source": [
    "from sklearn.model_selection import train_test_split\n",
    "\n",
    "# Sample size per class\n",
    "samples_per_class = 2500\n",
    "\n",
    "# Stratified sampling\n",
    "df_train_sampled, _ = train_test_split(\n",
    "    df_train,\n",
    "    stratify=df_train['labels'],\n",
    "    train_size=samples_per_class * 2,  # total size\n",
    "    random_state=42\n",
    ")\n",
    "\n",
    "df_test_sampled, _ = train_test_split(\n",
    "    df_test,\n",
    "    stratify=df_test['labels'],\n",
    "    train_size=samples_per_class * 2,  # total size\n",
    "    random_state=42\n",
    ")\n",
    "\n",
    "# Class Distribution\n",
    "print(\"Sampled Class Distribution:\")\n",
    "print(df_train_sampled['labels'].value_counts(),df_test_sampled['labels'].value_counts() )\n"
   ]
  },
  {
   "cell_type": "code",
   "execution_count": 20,
   "id": "3a620421",
   "metadata": {},
   "outputs": [
    {
     "data": {
      "text/html": [
       "<div>\n",
       "<style scoped>\n",
       "    .dataframe tbody tr th:only-of-type {\n",
       "        vertical-align: middle;\n",
       "    }\n",
       "\n",
       "    .dataframe tbody tr th {\n",
       "        vertical-align: top;\n",
       "    }\n",
       "\n",
       "    .dataframe thead th {\n",
       "        text-align: right;\n",
       "    }\n",
       "</style>\n",
       "<table border=\"1\" class=\"dataframe\">\n",
       "  <thead>\n",
       "    <tr style=\"text-align: right;\">\n",
       "      <th></th>\n",
       "      <th>text</th>\n",
       "      <th>labels</th>\n",
       "      <th>length</th>\n",
       "    </tr>\n",
       "  </thead>\n",
       "  <tbody>\n",
       "    <tr>\n",
       "      <th>607</th>\n",
       "      <td>PROS: Akshay Kumar's performance(is it just me...</td>\n",
       "      <td>0</td>\n",
       "      <td>355</td>\n",
       "    </tr>\n",
       "    <tr>\n",
       "      <th>20582</th>\n",
       "      <td>The brilliance of this movie is that even a co...</td>\n",
       "      <td>1</td>\n",
       "      <td>146</td>\n",
       "    </tr>\n",
       "  </tbody>\n",
       "</table>\n",
       "</div>"
      ],
      "text/plain": [
       "                                                    text  labels  length\n",
       "607    PROS: Akshay Kumar's performance(is it just me...       0     355\n",
       "20582  The brilliance of this movie is that even a co...       1     146"
      ]
     },
     "execution_count": 20,
     "metadata": {},
     "output_type": "execute_result"
    }
   ],
   "source": [
    "df_train_sampled.head(2)"
   ]
  },
  {
   "cell_type": "code",
   "execution_count": 21,
   "id": "008d883b",
   "metadata": {},
   "outputs": [
    {
     "data": {
      "text/html": [
       "<div>\n",
       "<style scoped>\n",
       "    .dataframe tbody tr th:only-of-type {\n",
       "        vertical-align: middle;\n",
       "    }\n",
       "\n",
       "    .dataframe tbody tr th {\n",
       "        vertical-align: top;\n",
       "    }\n",
       "\n",
       "    .dataframe thead th {\n",
       "        text-align: right;\n",
       "    }\n",
       "</style>\n",
       "<table border=\"1\" class=\"dataframe\">\n",
       "  <thead>\n",
       "    <tr style=\"text-align: right;\">\n",
       "      <th></th>\n",
       "      <th>text</th>\n",
       "      <th>labels</th>\n",
       "      <th>length</th>\n",
       "    </tr>\n",
       "  </thead>\n",
       "  <tbody>\n",
       "    <tr>\n",
       "      <th>1935</th>\n",
       "      <td>This was the most uninteresting horror flick I...</td>\n",
       "      <td>0</td>\n",
       "      <td>146</td>\n",
       "    </tr>\n",
       "    <tr>\n",
       "      <th>21148</th>\n",
       "      <td>Although copies of this movie are hard to find...</td>\n",
       "      <td>1</td>\n",
       "      <td>108</td>\n",
       "    </tr>\n",
       "  </tbody>\n",
       "</table>\n",
       "</div>"
      ],
      "text/plain": [
       "                                                    text  labels  length\n",
       "1935   This was the most uninteresting horror flick I...       0     146\n",
       "21148  Although copies of this movie are hard to find...       1     108"
      ]
     },
     "execution_count": 21,
     "metadata": {},
     "output_type": "execute_result"
    }
   ],
   "source": [
    "df_test_sampled.head(2)"
   ]
  },
  {
   "cell_type": "code",
   "execution_count": 22,
   "id": "dabb0e0c",
   "metadata": {},
   "outputs": [
    {
     "data": {
      "image/png": "[encoded data removed]",
      "text/plain": [
       "<Figure size 700x300 with 1 Axes>"
      ]
     },
     "metadata": {},
     "output_type": "display_data"
    }
   ],
   "source": [
    "import matplotlib.pyplot as plt\n",
    "import seaborn as sns\n",
    "\n",
    "plt.figure(figsize=(7, 3))\n",
    "sns.histplot(df_train_sampled['length'], bins=50, kde=True)\n",
    "plt.title(\"Distribution of Review Lengths\")\n",
    "plt.xlabel(\"Number of Words\")\n",
    "plt.ylabel(\"Frequency\")\n",
    "plt.grid(True)\n",
    "plt.show()\n"
   ]
  },
  {
   "cell_type": "markdown",
   "id": "a3db3066",
   "metadata": {},
   "source": [
    "### Tokenize Samples\n",
    "\n",
    "- BERT is a its encoder-type. Hence it has bidirectional attention which requires an attention mask which help it differentiate which token to focus (like a word/subword) and which to neglect (padding). Hence the Tokenizer for BERT creates input_ids + attention_mask. \n",
    "- attention_mask is simply binary with 1s and 0s indicating which to focus and which to neglect. \n",
    "- Input that are too short must be padded with 0s to fit BERT's context window size of 512 tokens."
   ]
  },
  {
   "cell_type": "code",
   "execution_count": 23,
   "id": "227da432",
   "metadata": {},
   "outputs": [],
   "source": [
    "from datasets import Dataset\n",
    "\n",
    "# Convert DataFrames to Hugging Face datasets\n",
    "train_dataset= Dataset.from_pandas(df_train_sampled)\n",
    "test_dataset = Dataset.from_pandas(df_test_sampled)"
   ]
  },
  {
   "cell_type": "code",
   "execution_count": 24,
   "id": "a4ad6012",
   "metadata": {},
   "outputs": [],
   "source": [
    "from transformers import AutoTokenizer\n",
    "\n",
    "# Instantiate Tokenizer - prepares the dataset into input IDs and attention masks.\n",
    "tokenizer = AutoTokenizer.from_pretrained(\"bert-base-uncased\")  \n",
    "\n",
    "def tokenize_fn(example):\n",
    "    return tokenizer(example[\"text\"], padding=\"max_length\", truncation=True, max_length=512)"
   ]
  },
  {
   "cell_type": "markdown",
   "id": "6bcefd95",
   "metadata": {},
   "source": [
    " - Note: Input text gets truncated to fit BERT Context window size hence we might as well remove all text greater than 512 tokens if they are not a big chunk of the dataset"
   ]
  },
  {
   "cell_type": "code",
   "execution_count": 25,
   "id": "dea555a4",
   "metadata": {},
   "outputs": [
    {
     "data": {
      "application/vnd.jupyter.widget-view+json": {
       "model_id": "0ffb1784b12645f4b1073ddee8ecf5c7",
       "version_major": 2,
       "version_minor": 0
      },
      "text/plain": [
       "Map:   0%|          | 0/5000 [00:00<?, ? examples/s]"
      ]
     },
     "metadata": {},
     "output_type": "display_data"
    },
    {
     "data": {
      "application/vnd.jupyter.widget-view+json": {
       "model_id": "c6fb95a83de345d89e5ed29a319cd1e6",
       "version_major": 2,
       "version_minor": 0
      },
      "text/plain": [
       "Map:   0%|          | 0/5000 [00:00<?, ? examples/s]"
      ]
     },
     "metadata": {},
     "output_type": "display_data"
    }
   ],
   "source": [
    "# tokenize dataset\n",
    "# Huggingface datasets.Dataset method that applied func in batches and adds new columns ids and attn_mask to dataset\n",
    "tokenized_train = train_dataset.map(tokenize_fn, batched=True)\n",
    "tokenized_test = test_dataset.map(tokenize_fn, batched=True)\n",
    "\n",
    "# Convert to tensors\n",
    "# Pytorch expects tensors hence conversion\n",
    "tokenized_train.set_format(\"torch\", columns=[\"input_ids\", \"attention_mask\", \"labels\"])\n",
    "tokenized_test.set_format(\"torch\", columns=[\"input_ids\", \"attention_mask\", \"labels\"])"
   ]
  },
  {
   "cell_type": "code",
   "execution_count": 26,
   "id": "b60f844b",
   "metadata": {},
   "outputs": [
    {
     "data": {
      "text/plain": [
       "('./saved_models/tokenizer_config.json',\n",
       " './saved_models/special_tokens_map.json',\n",
       " './saved_models/vocab.txt',\n",
       " './saved_models/added_tokens.json',\n",
       " './saved_models/tokenizer.json')"
      ]
     },
     "execution_count": 26,
     "metadata": {},
     "output_type": "execute_result"
    }
   ],
   "source": [
    "# save tokenizer\n",
    "# not necessary since tokenizer is not changed but doing as good practice\n",
    "tokenizer.save_pretrained(\"./saved_models\")"
   ]
  },
  {
   "cell_type": "markdown",
   "id": "bb4dca86",
   "metadata": {},
   "source": [
    "---"
   ]
  },
  {
   "cell_type": "markdown",
   "id": "0fc80d01",
   "metadata": {},
   "source": [
    "## Baseline: BERT (Pre-Fine Tuning Evaluation)\n",
    "\n",
    "BERT (bert-base-uncased) is a encoder-only architecture LLM that is apt for sentiment analysis. Before fine-tuning it for sequence classification, we need to check its zero-shot performance."
   ]
  },
  {
   "cell_type": "code",
   "execution_count": 27,
   "id": "f551c63a",
   "metadata": {},
   "outputs": [
    {
     "name": "stderr",
     "output_type": "stream",
     "text": [
      "/opt/conda/lib/python3.10/site-packages/torchvision/datapoints/__init__.py:12: UserWarning: The torchvision.datapoints and torchvision.transforms.v2 namespaces are still Beta. While we do not expect major breaking changes, some APIs may still change according to user feedback. Please submit any feedback you may have in this issue: https://github.com/pytorch/vision/issues/6753, and you can also check out https://github.com/pytorch/vision/issues/7319 to learn more about the APIs that we suspect might involve future changes. You can silence this warning by calling torchvision.disable_beta_transforms_warning().\n",
      "  warnings.warn(_BETA_TRANSFORMS_WARNING)\n",
      "/opt/conda/lib/python3.10/site-packages/torchvision/transforms/v2/__init__.py:54: UserWarning: The torchvision.datapoints and torchvision.transforms.v2 namespaces are still Beta. While we do not expect major breaking changes, some APIs may still change according to user feedback. Please submit any feedback you may have in this issue: https://github.com/pytorch/vision/issues/6753, and you can also check out https://github.com/pytorch/vision/issues/7319 to learn more about the APIs that we suspect might involve future changes. You can silence this warning by calling torchvision.disable_beta_transforms_warning().\n",
      "  warnings.warn(_BETA_TRANSFORMS_WARNING)\n",
      "Some weights of BertForSequenceClassification were not initialized from the model checkpoint at bert-base-uncased and are newly initialized: ['classifier.bias', 'classifier.weight']\n",
      "You should probably TRAIN this model on a down-stream task to be able to use it for predictions and inference.\n"
     ]
    },
    {
     "data": {
      "text/plain": [
       "BertForSequenceClassification(\n",
       "  (bert): BertModel(\n",
       "    (embeddings): BertEmbeddings(\n",
       "      (word_embeddings): Embedding(30522, 768, padding_idx=0)\n",
       "      (position_embeddings): Embedding(512, 768)\n",
       "      (token_type_embeddings): Embedding(2, 768)\n",
       "      (LayerNorm): LayerNorm((768,), eps=1e-12, elementwise_affine=True)\n",
       "      (dropout): Dropout(p=0.1, inplace=False)\n",
       "    )\n",
       "    (encoder): BertEncoder(\n",
       "      (layer): ModuleList(\n",
       "        (0-11): 12 x BertLayer(\n",
       "          (attention): BertAttention(\n",
       "            (self): BertSelfAttention(\n",
       "              (query): Linear(in_features=768, out_features=768, bias=True)\n",
       "              (key): Linear(in_features=768, out_features=768, bias=True)\n",
       "              (value): Linear(in_features=768, out_features=768, bias=True)\n",
       "              (dropout): Dropout(p=0.1, inplace=False)\n",
       "            )\n",
       "            (output): BertSelfOutput(\n",
       "              (dense): Linear(in_features=768, out_features=768, bias=True)\n",
       "              (LayerNorm): LayerNorm((768,), eps=1e-12, elementwise_affine=True)\n",
       "              (dropout): Dropout(p=0.1, inplace=False)\n",
       "            )\n",
       "          )\n",
       "          (intermediate): BertIntermediate(\n",
       "            (dense): Linear(in_features=768, out_features=3072, bias=True)\n",
       "            (intermediate_act_fn): GELUActivation()\n",
       "          )\n",
       "          (output): BertOutput(\n",
       "            (dense): Linear(in_features=3072, out_features=768, bias=True)\n",
       "            (LayerNorm): LayerNorm((768,), eps=1e-12, elementwise_affine=True)\n",
       "            (dropout): Dropout(p=0.1, inplace=False)\n",
       "          )\n",
       "        )\n",
       "      )\n",
       "    )\n",
       "    (pooler): BertPooler(\n",
       "      (dense): Linear(in_features=768, out_features=768, bias=True)\n",
       "      (activation): Tanh()\n",
       "    )\n",
       "  )\n",
       "  (dropout): Dropout(p=0.1, inplace=False)\n",
       "  (classifier): Linear(in_features=768, out_features=2, bias=True)\n",
       ")"
      ]
     },
     "execution_count": 27,
     "metadata": {},
     "output_type": "execute_result"
    }
   ],
   "source": [
    "from transformers import AutoModelForSequenceClassification\n",
    "from datasets import Dataset\n",
    "\n",
    "# Pre-trained tokenizer and model\n",
    "model_name = \"bert-base-uncased\"\n",
    "model_baseline = AutoModelForSequenceClassification.from_pretrained(model_name, num_labels=2)\n",
    "model_baseline.eval()\n",
    "model_baseline.cuda()"
   ]
  },
  {
   "cell_type": "code",
   "execution_count": 28,
   "id": "2283cd1f",
   "metadata": {},
   "outputs": [
    {
     "name": "stdout",
     "output_type": "stream",
     "text": [
      "Baseline Model Stats\n",
      "Model Weights memory footprint: 417.65528106689453 MB\n",
      " All params: 109483778 || Trainable params: 109483778 || trainable%: 100.0\n"
     ]
    }
   ],
   "source": [
    "weights_mem_baseline = model_baseline.get_memory_footprint() / (1024 ** 2)\n",
    "print(\"Baseline Model Stats\")\n",
    "print(f\"Model Weights memory footprint: {weights_mem_baseline} MB\")\n",
    "\n",
    "trainable_params = calc_trainable_parameters(model_baseline)\n",
    "all_bl, train_bl, trainable_bl, = trainable_params[0], trainable_params[1], trainable_params[2]\n",
    "print(f\" All params: {all_bl} || Trainable params: {train_bl} || trainable%: {trainable_bl}\" )"
   ]
  },
  {
   "cell_type": "markdown",
   "id": "c898b015",
   "metadata": {},
   "source": [
    "### Run the Model (Zero-Shot) and Evaluate\n",
    "- Zero shoting with pre-trained BERT as is without any fine-tuning. \n",
    "- Taking manual approach to define each step for learning. Pytorch Trainer which will used later does all below for us.\n"
   ]
  },
  {
   "cell_type": "code",
   "execution_count": 29,
   "id": "5c355b97",
   "metadata": {},
   "outputs": [
    {
     "name": "stdout",
     "output_type": "stream",
     "text": [
      "Zero-shot Inference time: 166.22 seconds\n"
     ]
    }
   ],
   "source": [
    "start_time = time.time()\n",
    "\n",
    "# Zero-shot inference manually (without using Pytorch Trainer)\n",
    "dataloader = torch.utils.data.DataLoader(tokenized_test, batch_size=32)\n",
    "\n",
    "y_pred_bert = []\n",
    "y_true_bert = []\n",
    "\n",
    "with torch.no_grad():\n",
    "    for batch in dataloader:\n",
    "        input_ids = batch['input_ids'].cuda()\n",
    "        attention_mask = batch['attention_mask'].cuda()\n",
    "        labels = batch['labels'].cuda()\n",
    "\n",
    "        outputs = model_baseline(input_ids=input_ids, attention_mask=attention_mask)\n",
    "        logits = outputs.logits\n",
    "        preds = torch.argmax(logits, dim=1)\n",
    "\n",
    "        y_pred_bert.extend(preds.cpu().tolist())\n",
    "        y_true_bert.extend(labels.cpu().tolist())\n",
    "        \n",
    "end_time = time.time()\n",
    "inference_time  = end_time - start_time\n",
    "print(f\"Zero-shot Inference time: {(inference_time ):.2f} seconds\")\n"
   ]
  },
  {
   "cell_type": "code",
   "execution_count": 30,
   "id": "0ae8dc03",
   "metadata": {
    "scrolled": true
   },
   "outputs": [
    {
     "name": "stdout",
     "output_type": "stream",
     "text": [
      "Zero-shot Accuracy: 0.5422\n",
      "Zero-shot F1 Score: 0.6565\n"
     ]
    }
   ],
   "source": [
    "# Accuracy and F1\n",
    "acc = accuracy_score(y_true_bert, y_pred_bert)\n",
    "f1 = f1_score(y_true_bert, y_pred_bert)\n",
    "\n",
    "print(f\"Zero-shot Accuracy: {acc:.4f}\")\n",
    "print(f\"Zero-shot F1 Score: {f1:.4f}\")"
   ]
  },
  {
   "cell_type": "code",
   "execution_count": 31,
   "id": "24f85836",
   "metadata": {},
   "outputs": [
    {
     "data": {
      "image/png": "[encoded data removed]",
      "text/plain": [
       "<Figure size 400x300 with 1 Axes>"
      ]
     },
     "metadata": {},
     "output_type": "display_data"
    }
   ],
   "source": [
    "plot_confusion_matrix(y_true_bert,y_pred_bert, \"Zero-shot BERT\" )"
   ]
  },
  {
   "cell_type": "code",
   "execution_count": 32,
   "id": "eb77270f",
   "metadata": {},
   "outputs": [
    {
     "data": {
      "text/html": [
       "<div>\n",
       "<style scoped>\n",
       "    .dataframe tbody tr th:only-of-type {\n",
       "        vertical-align: middle;\n",
       "    }\n",
       "\n",
       "    .dataframe tbody tr th {\n",
       "        vertical-align: top;\n",
       "    }\n",
       "\n",
       "    .dataframe thead th {\n",
       "        text-align: right;\n",
       "    }\n",
       "</style>\n",
       "<table border=\"1\" class=\"dataframe\">\n",
       "  <thead>\n",
       "    <tr style=\"text-align: right;\">\n",
       "      <th></th>\n",
       "      <th>Method</th>\n",
       "      <th>Trainable Parameters (Mil)</th>\n",
       "      <th>Trainable Parameters (%)</th>\n",
       "      <th>Training Time / Epoch (s)</th>\n",
       "      <th>Inference Time (s)</th>\n",
       "      <th>ModelParams_GPUMemoryUsage (MB)</th>\n",
       "      <th>PeakGPUMemoryUsage (MB)</th>\n",
       "      <th>Accuracy</th>\n",
       "      <th>F1 Score</th>\n",
       "    </tr>\n",
       "  </thead>\n",
       "  <tbody>\n",
       "    <tr>\n",
       "      <th>0</th>\n",
       "      <td>Zero-shot (Baseline)</td>\n",
       "      <td>110</td>\n",
       "      <td>100</td>\n",
       "      <td>NA</td>\n",
       "      <td>166.22</td>\n",
       "      <td>417.66</td>\n",
       "      <td>NA</td>\n",
       "      <td>0.5422</td>\n",
       "      <td>0.6565</td>\n",
       "    </tr>\n",
       "  </tbody>\n",
       "</table>\n",
       "</div>"
      ],
      "text/plain": [
       "                 Method  Trainable Parameters (Mil)  Trainable Parameters (%)  \\\n",
       "0  Zero-shot (Baseline)                         110                       100   \n",
       "\n",
       "  Training Time / Epoch (s)  Inference Time (s)  \\\n",
       "0                        NA              166.22   \n",
       "\n",
       "   ModelParams_GPUMemoryUsage (MB) PeakGPUMemoryUsage (MB)  Accuracy  F1 Score  \n",
       "0                           417.66                      NA    0.5422    0.6565  "
      ]
     },
     "execution_count": 32,
     "metadata": {},
     "output_type": "execute_result"
    }
   ],
   "source": [
    "explog_df.loc[len(explog_df)] = {\n",
    "    \"Method\": \"Zero-shot (Baseline)\",\n",
    "    \"Trainable Parameters (Mil)\": 110,\n",
    "    \"Trainable Parameters (%)\": 100,\n",
    "    \"Inference Time (s)\": round(inference_time, 2),\n",
    "    \"Accuracy\": round(acc, 4),\n",
    "    \"F1 Score\": round(f1, 4),\n",
    "    \"Training Time / Epoch (s)\" : \"NA\",\n",
    "    \"ModelParams_GPUMemoryUsage (MB)\" : round(weights_mem_baseline,2),\n",
    "    \"PeakGPUMemoryUsage (MB)\": \"NA\"\n",
    "}\n",
    "\n",
    "explog_df"
   ]
  },
  {
   "cell_type": "markdown",
   "id": "4d52a229",
   "metadata": {},
   "source": [
    "# Parameter-Efficient Fine-Tuning (PEFT)\n"
   ]
  },
  {
   "cell_type": "markdown",
   "id": "b8c67f70",
   "metadata": {},
   "source": [
    "Steps:\n"
   ]
  },
  {
   "cell_type": "markdown",
   "id": "37e624bc",
   "metadata": {},
   "source": [
    "## PEFT 1: Adapters"
   ]
  },
  {
   "cell_type": "code",
   "execution_count": 33,
   "id": "ba6d4772",
   "metadata": {},
   "outputs": [
    {
     "name": "stderr",
     "output_type": "stream",
     "text": [
      "Some weights of BertAdapterModel were not initialized from the model checkpoint at bert-base-uncased and are newly initialized: ['heads.default.3.bias']\n",
      "You should probably TRAIN this model on a down-stream task to be able to use it for predictions and inference.\n"
     ]
    }
   ],
   "source": [
    "from adapters import AutoAdapterModel\n",
    "from transformers import AutoTokenizer\n",
    "\n",
    "# Load model\n",
    "model_name = \"bert-base-uncased\"\n",
    "# tokenizer = AutoTokenizer.from_pretrained(model_name) # common tokenized dataset created above\n",
    "model_adpt = AutoAdapterModel.from_pretrained(model_name) # Key step: AutoAdapterModel allows to manage Adapters\n"
   ]
  },
  {
   "cell_type": "code",
   "execution_count": 34,
   "id": "ac3a6875",
   "metadata": {},
   "outputs": [],
   "source": [
    "from adapters.training import AdapterArguments\n",
    "from adapters import AdapterConfig\n",
    "\n",
    "# Configuring adapter\n",
    "# Using Pfeiffer config: bottleneck type adapter with r factor 16\n",
    "adapter_config = AdapterConfig.load(\"pfeiffer\", reduction_factor=16)\n",
    "\n",
    "# Adding adapter to the model\n",
    "adapter_name = \"sent_classifier_adapter\"\n",
    "model_adpt.add_adapter(adapter_name, config=adapter_config)\n",
    "\n",
    "# Adding classification head\n",
    "model_adpt.add_classification_head(adapter_name,num_labels=2)\n",
    "\n",
    "# Activating the adapter for training\n",
    "model_adpt.train_adapter(adapter_name)"
   ]
  },
  {
   "cell_type": "code",
   "execution_count": 35,
   "id": "1f5b97bf",
   "metadata": {},
   "outputs": [
    {
     "name": "stdout",
     "output_type": "stream",
     "text": [
      "Adapter Model Stats\n",
      "Model Weights memory footprint: 425.69578552246094 MB\n",
      " All params: 111591548 || Trainable params: 2.109308 || trainable%: 1.8902040860657296\n"
     ]
    }
   ],
   "source": [
    "weights_mem_adpt = model_adpt.get_memory_footprint() / (1024 ** 2)\n",
    "print(\"Adapter Model Stats\")\n",
    "print(f\"Model Weights memory footprint: {weights_mem_adpt} MB\")\n",
    "\n",
    "trainable_params = calc_trainable_parameters(model_adpt)\n",
    "all_adpt, train_adpt, trainable_adpt, = trainable_params[0], trainable_params[1]/1000000, trainable_params[2]\n",
    "print(f\" All params: {all_adpt} || Trainable params: {train_adpt} || trainable%: {trainable_adpt}\" )"
   ]
  },
  {
   "cell_type": "code",
   "execution_count": 36,
   "id": "00e8de8b",
   "metadata": {},
   "outputs": [
    {
     "name": "stderr",
     "output_type": "stream",
     "text": [
      "/tmp/ipykernel_205/2649693538.py:23: FutureWarning: `tokenizer` is deprecated and will be removed in version 5.0.0 for `Trainer.__init__`. Use `processing_class` instead.\n",
      "  trainer_adpt = Trainer(\n"
     ]
    }
   ],
   "source": [
    "from transformers import TrainingArguments, Trainer, EvalPrediction\n",
    "from datasets import load_metric\n",
    "\n",
    "training_args = TrainingArguments(\n",
    "    output_dir=\"./output\",\n",
    "    learning_rate=1e-4,\n",
    "    weight_decay=0.01,         # L2 regularization\n",
    "    num_train_epochs=num_epoch,\n",
    "    per_device_train_batch_size=16,\n",
    "    per_device_eval_batch_size=16,\n",
    "    logging_steps=100,\n",
    "    eval_strategy=\"no\",    # for validation method\n",
    "    remove_unused_columns=False\n",
    ")\n",
    "\n",
    "# Instantiate Trainer\n",
    "trainer_adpt = Trainer(\n",
    "    model=model_adpt, \n",
    "    args=training_args,\n",
    "    train_dataset=tokenized_train,\n",
    "    eval_dataset=None,\n",
    "    tokenizer=tokenizer,\n",
    "    )"
   ]
  },
  {
   "cell_type": "code",
   "execution_count": 37,
   "id": "84e3bdae",
   "metadata": {},
   "outputs": [
    {
     "data": {
      "text/html": [
       "\n",
       "    <div>\n",
       "      \n",
       "      <progress value='939' max='939' style='width:300px; height:20px; vertical-align: middle;'></progress>\n",
       "      [939/939 17:05, Epoch 3/3]\n",
       "    </div>\n",
       "    <table border=\"1\" class=\"dataframe\">\n",
       "  <thead>\n",
       " <tr style=\"text-align: left;\">\n",
       "      <th>Step</th>\n",
       "      <th>Training Loss</th>\n",
       "    </tr>\n",
       "  </thead>\n",
       "  <tbody>\n",
       "    <tr>\n",
       "      <td>100</td>\n",
       "      <td>0.443300</td>\n",
       "    </tr>\n",
       "    <tr>\n",
       "      <td>200</td>\n",
       "      <td>0.286700</td>\n",
       "    </tr>\n",
       "    <tr>\n",
       "      <td>300</td>\n",
       "      <td>0.237700</td>\n",
       "    </tr>\n",
       "    <tr>\n",
       "      <td>400</td>\n",
       "      <td>0.221000</td>\n",
       "    </tr>\n",
       "    <tr>\n",
       "      <td>500</td>\n",
       "      <td>0.225000</td>\n",
       "    </tr>\n",
       "    <tr>\n",
       "      <td>600</td>\n",
       "      <td>0.201200</td>\n",
       "    </tr>\n",
       "    <tr>\n",
       "      <td>700</td>\n",
       "      <td>0.199500</td>\n",
       "    </tr>\n",
       "    <tr>\n",
       "      <td>800</td>\n",
       "      <td>0.185100</td>\n",
       "    </tr>\n",
       "    <tr>\n",
       "      <td>900</td>\n",
       "      <td>0.184500</td>\n",
       "    </tr>\n",
       "  </tbody>\n",
       "</table><p>"
      ],
      "text/plain": [
       "<IPython.core.display.HTML object>"
      ]
     },
     "metadata": {},
     "output_type": "display_data"
    },
    {
     "name": "stdout",
     "output_type": "stream",
     "text": [
      "Fine Tuning with Adapter:\n",
      "Training time: 342.32 seconds\n",
      "Peak Memory Used: 9004.009765625\n"
     ]
    }
   ],
   "source": [
    "# Fine Tuning with Adapter\n",
    "\n",
    "# logging\n",
    "start_time = time.time()\n",
    "torch.cuda.reset_peak_memory_stats()\n",
    "\n",
    "# Start training\n",
    "trainer_adpt.train()  # Does return TrainOutput object containing metrics which is not relevant for us\n",
    "\n",
    "print(f\"Fine Tuning with Adapter:\")\n",
    "train_time_adpt = (time.time() - start_time) / num_epoch\n",
    "print(f\"Training time: {(train_time_adpt):.2f} seconds\")\n",
    "\n",
    "peak_mem_adpt = torch.cuda.max_memory_allocated() / (1024 ** 2)  # max memory in MB\n",
    "print(f\"Peak Memory Used: {peak_mem_adpt}\")"
   ]
  },
  {
   "cell_type": "code",
   "execution_count": 38,
   "id": "a71251d5",
   "metadata": {},
   "outputs": [],
   "source": [
    "# Save adapter and classification head\n",
    "model_adpt.save_adapter(\"./saved_models/adapter\", adapter_name)\n",
    "model_adpt.save_head(\"./saved_models/adapter\", adapter_name)"
   ]
  },
  {
   "cell_type": "code",
   "execution_count": 39,
   "id": "cf24c416",
   "metadata": {},
   "outputs": [
    {
     "name": "stderr",
     "output_type": "stream",
     "text": [
      "Some weights of BertAdapterModel were not initialized from the model checkpoint at bert-base-uncased and are newly initialized: ['heads.default.3.bias']\n",
      "You should probably TRAIN this model on a down-stream task to be able to use it for predictions and inference.\n",
      "The 'config' and 'model_name' arguments are specific to the now unsupported legacy Hub repo and will be removed.Please switch to only providing the HF Model Hub identifier.\n",
      "/opt/conda/lib/python3.10/site-packages/torch/_utils.py:776: UserWarning: TypedStorage is deprecated. It will be removed in the future and UntypedStorage will be the only storage class. This should only matter to you if you are using storages directly.  To access UntypedStorage directly, use tensor.untyped_storage() instead of tensor.storage()\n",
      "  return self.fget.__get__(instance, owner)()\n",
      "Overwriting existing head 'sent_classifier_adapter'\n",
      "/tmp/ipykernel_205/4204271260.py:20: FutureWarning: `tokenizer` is deprecated and will be removed in version 5.0.0 for `Trainer.__init__`. Use `processing_class` instead.\n",
      "  trainer_adpt2 = Trainer(\n"
     ]
    }
   ],
   "source": [
    "#Reloading before Inference\n",
    "from adapters import AutoAdapterModel\n",
    "from transformers import AutoTokenizer\n",
    "\n",
    "# Reload base model\n",
    "model_adpt2 = AutoAdapterModel.from_pretrained(\"bert-base-uncased\")\n",
    "\n",
    "# Load adapter and head\n",
    "adapter_name = \"sent_classifier_adapter\"\n",
    "model_adpt2.load_adapter(\"./saved_models/adapter\", config=\"pfeiffer\", load_as=adapter_name)\n",
    "model_adpt2.load_head(\"./saved_models/adapter\", load_as=adapter_name)\n",
    "\n",
    "# Activate adapter else model goes back to BERT only\n",
    "model_adpt2.set_active_adapters(adapter_name)\n",
    "\n",
    "# Load saved tokenizer\n",
    "tokenizer2 = AutoTokenizer.from_pretrained(\"./saved_models\")\n",
    "\n",
    "# New Trainer \n",
    "trainer_adpt2 = Trainer(\n",
    "    model=model_adpt2,\n",
    "    tokenizer=tokenizer2,\n",
    "    args=training_args,\n",
    "    )"
   ]
  },
  {
   "cell_type": "code",
   "execution_count": 40,
   "id": "4023bfc0",
   "metadata": {},
   "outputs": [
    {
     "data": {
      "text/html": [],
      "text/plain": [
       "<IPython.core.display.HTML object>"
      ]
     },
     "metadata": {},
     "output_type": "display_data"
    },
    {
     "name": "stdout",
     "output_type": "stream",
     "text": [
      "Inference time: 172.02 seconds\n"
     ]
    }
   ],
   "source": [
    "# Inference\n",
    "start_time = time.time()\n",
    "\n",
    "# Run prediction on the test dataset\n",
    "predictions = trainer_adpt2.predict(tokenized_test)\n",
    "\n",
    "# Logits at predictions.predictions[1]\n",
    "logits = predictions.predictions[1] \n",
    "\n",
    "# Predicted labels\n",
    "y_pred_adpt = np.argmax(logits, axis=1)\n",
    "y_true_adpt = np.array(tokenized_test[\"labels\"])\n",
    "        \n",
    "end_time = time.time()\n",
    "inference_time_adpt  = end_time - start_time\n",
    "print(f\"Inference time: {(inference_time_adpt):.2f} seconds\")"
   ]
  },
  {
   "cell_type": "code",
   "execution_count": 41,
   "id": "5f3c7737",
   "metadata": {},
   "outputs": [
    {
     "name": "stdout",
     "output_type": "stream",
     "text": [
      "PEFT-Adapter Accuracy: 0.9182\n",
      "PEFT-Adapter F1 Score: 0.9187\n"
     ]
    }
   ],
   "source": [
    "# Accuracy and F1\n",
    "acc_adpt = accuracy_score(y_true_adpt, y_pred_adpt)\n",
    "f1_adpt = f1_score(y_true_adpt, y_pred_adpt)\n",
    "\n",
    "print(f\"PEFT-Adapter Accuracy: {acc_adpt:.4f}\")\n",
    "print(f\"PEFT-Adapter F1 Score: {f1_adpt:.4f}\")"
   ]
  },
  {
   "cell_type": "code",
   "execution_count": 42,
   "id": "8a1e3ca1",
   "metadata": {},
   "outputs": [
    {
     "data": {
      "image/png": "[encoded data removed]",
      "text/plain": [
       "<Figure size 400x300 with 1 Axes>"
      ]
     },
     "metadata": {},
     "output_type": "display_data"
    }
   ],
   "source": [
    "plot_confusion_matrix(y_true_adpt, y_pred_adpt, \"PEFT : Adapter\")"
   ]
  },
  {
   "cell_type": "code",
   "execution_count": 43,
   "id": "f269db84",
   "metadata": {},
   "outputs": [
    {
     "data": {
      "text/html": [
       "<div>\n",
       "<style scoped>\n",
       "    .dataframe tbody tr th:only-of-type {\n",
       "        vertical-align: middle;\n",
       "    }\n",
       "\n",
       "    .dataframe tbody tr th {\n",
       "        vertical-align: top;\n",
       "    }\n",
       "\n",
       "    .dataframe thead th {\n",
       "        text-align: right;\n",
       "    }\n",
       "</style>\n",
       "<table border=\"1\" class=\"dataframe\">\n",
       "  <thead>\n",
       "    <tr style=\"text-align: right;\">\n",
       "      <th></th>\n",
       "      <th>Method</th>\n",
       "      <th>Trainable Parameters (Mil)</th>\n",
       "      <th>Trainable Parameters (%)</th>\n",
       "      <th>Training Time / Epoch (s)</th>\n",
       "      <th>Inference Time (s)</th>\n",
       "      <th>ModelParams_GPUMemoryUsage (MB)</th>\n",
       "      <th>PeakGPUMemoryUsage (MB)</th>\n",
       "      <th>Accuracy</th>\n",
       "      <th>F1 Score</th>\n",
       "    </tr>\n",
       "  </thead>\n",
       "  <tbody>\n",
       "    <tr>\n",
       "      <th>0</th>\n",
       "      <td>Zero-shot (Baseline)</td>\n",
       "      <td>110.00</td>\n",
       "      <td>100.00</td>\n",
       "      <td>NA</td>\n",
       "      <td>166.22</td>\n",
       "      <td>417.66</td>\n",
       "      <td>NA</td>\n",
       "      <td>0.5422</td>\n",
       "      <td>0.6565</td>\n",
       "    </tr>\n",
       "    <tr>\n",
       "      <th>1</th>\n",
       "      <td>Adapter</td>\n",
       "      <td>2.11</td>\n",
       "      <td>1.89</td>\n",
       "      <td>342.32</td>\n",
       "      <td>172.02</td>\n",
       "      <td>425.70</td>\n",
       "      <td>9004.01</td>\n",
       "      <td>0.9182</td>\n",
       "      <td>0.9187</td>\n",
       "    </tr>\n",
       "  </tbody>\n",
       "</table>\n",
       "</div>"
      ],
      "text/plain": [
       "                 Method  Trainable Parameters (Mil)  Trainable Parameters (%)  \\\n",
       "0  Zero-shot (Baseline)                      110.00                    100.00   \n",
       "1               Adapter                        2.11                      1.89   \n",
       "\n",
       "  Training Time / Epoch (s)  Inference Time (s)  \\\n",
       "0                        NA              166.22   \n",
       "1                    342.32              172.02   \n",
       "\n",
       "   ModelParams_GPUMemoryUsage (MB) PeakGPUMemoryUsage (MB)  Accuracy  F1 Score  \n",
       "0                           417.66                      NA    0.5422    0.6565  \n",
       "1                           425.70                 9004.01    0.9182    0.9187  "
      ]
     },
     "execution_count": 43,
     "metadata": {},
     "output_type": "execute_result"
    }
   ],
   "source": [
    "explog_df = pd.concat([\n",
    "    explog_df,\n",
    "    pd.DataFrame([{\n",
    "        \"Method\": \"Adapter\",\n",
    "        \"Trainable Parameters (Mil)\": round(train_adpt,2),\n",
    "        \"Trainable Parameters (%)\": round(trainable_adpt,2),\n",
    "        \"Training Time / Epoch (s)\": round(train_time_adpt, 2),\n",
    "        \"Inference Time (s)\": round(inference_time_adpt, 2),\n",
    "        \"ModelParams_GPUMemoryUsage (MB)\": round(weights_mem_adpt,2),\n",
    "        \"PeakGPUMemoryUsage (MB)\": round(peak_mem_adpt,2),\n",
    "        \"Accuracy\": round(acc_adpt, 4),\n",
    "        \"F1 Score\": round(f1_adpt, 4)\n",
    "    }])\n",
    "], ignore_index=True)\n",
    "\n",
    "explog_df"
   ]
  },
  {
   "cell_type": "markdown",
   "id": "99da43e5",
   "metadata": {},
   "source": [
    "## PEFT 2: LoRA"
   ]
  },
  {
   "cell_type": "code",
   "execution_count": 44,
   "id": "894046c0",
   "metadata": {},
   "outputs": [
    {
     "name": "stderr",
     "output_type": "stream",
     "text": [
      "Some weights of BertForSequenceClassification were not initialized from the model checkpoint at bert-base-uncased and are newly initialized: ['classifier.bias', 'classifier.weight']\n",
      "You should probably TRAIN this model on a down-stream task to be able to use it for predictions and inference.\n"
     ]
    }
   ],
   "source": [
    "from peft import get_peft_model, LoraConfig\n",
    "from transformers import BertForSequenceClassification\n",
    "\n",
    "# LoRA configuration\n",
    "lora_config = LoraConfig(\n",
    "    r=8,  # rank of the low rank matrices\n",
    "    lora_alpha=32,  # Scaler/amplifier to control learning level ; Like learning rate for LORA but amplifies than compress\n",
    "    target_modules=[\"query\", \"key\", \"value\"],  # modules to apply LoRA (common for attention layers)\n",
    "    lora_dropout=0.1,  # dropout\n",
    "    task_type=\"SEQ_CLS\"\n",
    ")\n",
    "\n",
    "# Loading model\n",
    "model = BertForSequenceClassification.from_pretrained(\"bert-base-uncased\", num_labels=2)\n",
    "\n",
    "# Adding Lora\n",
    "model_lora = get_peft_model(model, lora_config)"
   ]
  },
  {
   "cell_type": "code",
   "execution_count": 45,
   "id": "77a23775",
   "metadata": {},
   "outputs": [
    {
     "name": "stdout",
     "output_type": "stream",
     "text": [
      "LORA Model Stats\n",
      "Model Weights memory footprint: 419.34864807128906 MB\n",
      " All params: 109927684 || Trainable params: 0.445444 || trainable%: 0.4052154869377581\n"
     ]
    }
   ],
   "source": [
    "weights_mem_lora = model_lora.get_memory_footprint() / (1024 ** 2)  #converting to MB\n",
    "print(\"LORA Model Stats\")\n",
    "print(f\"Model Weights memory footprint: {weights_mem_lora} MB\")\n",
    "\n",
    "trainable_params = calc_trainable_parameters(model_lora)\n",
    "all_lora, train_lora, trainable_lora, = trainable_params[0], trainable_params[1]/1000000, trainable_params[2]\n",
    "print(f\" All params: {all_lora} || Trainable params: {train_lora} || trainable%: {trainable_lora}\" )"
   ]
  },
  {
   "cell_type": "code",
   "execution_count": 46,
   "id": "dc6ff710",
   "metadata": {},
   "outputs": [],
   "source": [
    "from transformers import Trainer, TrainingArguments, EvalPrediction\n",
    "\n",
    "training_args = TrainingArguments(\n",
    "    output_dir=\"./outputs\",\n",
    "    num_train_epochs=num_epoch,\n",
    "    learning_rate=1e-4,\n",
    "    weight_decay=0.01,         # L2 regularization\n",
    "    eval_strategy=\"no\",        # no validation phase\n",
    "    per_device_train_batch_size=16, \n",
    "    per_device_eval_batch_size=16,\n",
    "    logging_steps=100)\n",
    "\n",
    "\n",
    "trainer_lora = Trainer(\n",
    "    model=model_lora, \n",
    "    args=training_args,\n",
    "    train_dataset=tokenized_train, \n",
    "    eval_dataset=None,        # no validation phase\n",
    "    )"
   ]
  },
  {
   "cell_type": "code",
   "execution_count": 47,
   "id": "60363a77",
   "metadata": {},
   "outputs": [
    {
     "data": {
      "text/html": [
       "\n",
       "    <div>\n",
       "      \n",
       "      <progress value='939' max='939' style='width:300px; height:20px; vertical-align: middle;'></progress>\n",
       "      [939/939 18:37, Epoch 3/3]\n",
       "    </div>\n",
       "    <table border=\"1\" class=\"dataframe\">\n",
       "  <thead>\n",
       " <tr style=\"text-align: left;\">\n",
       "      <th>Step</th>\n",
       "      <th>Training Loss</th>\n",
       "    </tr>\n",
       "  </thead>\n",
       "  <tbody>\n",
       "    <tr>\n",
       "      <td>100</td>\n",
       "      <td>0.674100</td>\n",
       "    </tr>\n",
       "    <tr>\n",
       "      <td>200</td>\n",
       "      <td>0.372800</td>\n",
       "    </tr>\n",
       "    <tr>\n",
       "      <td>300</td>\n",
       "      <td>0.279600</td>\n",
       "    </tr>\n",
       "    <tr>\n",
       "      <td>400</td>\n",
       "      <td>0.239800</td>\n",
       "    </tr>\n",
       "    <tr>\n",
       "      <td>500</td>\n",
       "      <td>0.269600</td>\n",
       "    </tr>\n",
       "    <tr>\n",
       "      <td>600</td>\n",
       "      <td>0.222600</td>\n",
       "    </tr>\n",
       "    <tr>\n",
       "      <td>700</td>\n",
       "      <td>0.234000</td>\n",
       "    </tr>\n",
       "    <tr>\n",
       "      <td>800</td>\n",
       "      <td>0.221200</td>\n",
       "    </tr>\n",
       "    <tr>\n",
       "      <td>900</td>\n",
       "      <td>0.205500</td>\n",
       "    </tr>\n",
       "  </tbody>\n",
       "</table><p>"
      ],
      "text/plain": [
       "<IPython.core.display.HTML object>"
      ]
     },
     "metadata": {},
     "output_type": "display_data"
    },
    {
     "name": "stdout",
     "output_type": "stream",
     "text": [
      "Fine Tuning with LORA:\n",
      "Training time: 373.14 seconds\n",
      "Peak Memory Used (MB): 10936.1962890625\n"
     ]
    }
   ],
   "source": [
    "# Fine Tuning with Lora\n",
    "\n",
    "start_time = time.time()\n",
    "torch.cuda.reset_peak_memory_stats()\n",
    "\n",
    "# training / finetuning BERT\n",
    "trainer_lora.train()\n",
    "\n",
    "print(f\"Fine Tuning with LORA:\")\n",
    "train_time_lora = (time.time() - start_time) / num_epoch\n",
    "print(f\"Training time: {(train_time_lora):.2f} seconds\")\n",
    "\n",
    "peak_mem_lora = torch.cuda.max_memory_allocated() / (1024 ** 2)  # max memory in MB\n",
    "print(f\"Peak Memory Used (MB): {peak_mem_lora}\")"
   ]
  },
  {
   "cell_type": "code",
   "execution_count": 48,
   "id": "a84287b5",
   "metadata": {},
   "outputs": [],
   "source": [
    "# save model, weights and config\n",
    "model_lora.save_pretrained(\"./saved_models/lora\")"
   ]
  },
  {
   "cell_type": "markdown",
   "id": "f14d375c",
   "metadata": {},
   "source": [
    "---"
   ]
  },
  {
   "cell_type": "code",
   "execution_count": 49,
   "id": "13d7c984",
   "metadata": {},
   "outputs": [
    {
     "name": "stderr",
     "output_type": "stream",
     "text": [
      "Some weights of BertForSequenceClassification were not initialized from the model checkpoint at bert-base-uncased and are newly initialized: ['classifier.bias', 'classifier.weight']\n",
      "You should probably TRAIN this model on a down-stream task to be able to use it for predictions and inference.\n",
      "/tmp/ipykernel_205/3678383890.py:20: FutureWarning: `tokenizer` is deprecated and will be removed in version 5.0.0 for `Trainer.__init__`. Use `processing_class` instead.\n",
      "  trainer_lora2 = Trainer(\n"
     ]
    }
   ],
   "source": [
    "# Reload model from saved dir\n",
    "\n",
    "from transformers import BertForSequenceClassification, AutoTokenizer\n",
    "from peft import PeftModel, PeftConfig\n",
    "\n",
    "# Load tokenizer\n",
    "tokenizer2 = AutoTokenizer.from_pretrained(\"./saved_models\")\n",
    "\n",
    "# Load config\n",
    "peft_config = PeftConfig.from_pretrained(\"./saved_models/lora\")\n",
    "\n",
    "# Load base model first\n",
    "# peft_config.base_model_name_or_path loads the previously saved adapter config including base BERT model\n",
    "base_model = BertForSequenceClassification.from_pretrained(peft_config.base_model_name_or_path)\n",
    "\n",
    "# Load finetuned lora weights onto base model\n",
    "model_lora2 = PeftModel.from_pretrained(base_model, \"./saved_models/lora\")\n",
    "\n",
    "# New Trainer\n",
    "trainer_lora2 = Trainer(\n",
    "    model=model_lora2,\n",
    "    args=training_args, \n",
    "    tokenizer=tokenizer2,\n",
    "    eval_dataset=None)"
   ]
  },
  {
   "cell_type": "code",
   "execution_count": 50,
   "id": "05991532",
   "metadata": {},
   "outputs": [
    {
     "data": {
      "text/html": [],
      "text/plain": [
       "<IPython.core.display.HTML object>"
      ]
     },
     "metadata": {},
     "output_type": "display_data"
    },
    {
     "name": "stdout",
     "output_type": "stream",
     "text": [
      "Inference time: 175.44 seconds\n"
     ]
    }
   ],
   "source": [
    "# Inference\n",
    "\n",
    "start_time = time.time()\n",
    "\n",
    "# Predictions using my lora model\n",
    "predictions_lora = trainer_lora2.predict(tokenized_test)\n",
    "\n",
    "logits_lora = predictions_lora.predictions  \n",
    "y_pred_lora = np.argmax(logits_lora, axis=1)\n",
    "\n",
    "# True labels\n",
    "y_true_lora = np.array(tokenized_test[\"labels\"])\n",
    "\n",
    "end_time = time.time()\n",
    "inference_time_lora = end_time - start_time\n",
    "print(f\"Inference time: {inference_time_lora:.2f} seconds\")\n"
   ]
  },
  {
   "cell_type": "code",
   "execution_count": 51,
   "id": "6d242c8a",
   "metadata": {},
   "outputs": [
    {
     "name": "stdout",
     "output_type": "stream",
     "text": [
      "PEFT-LORA Accuracy: 0.9110\n",
      "PEFT-LORA F1 Score: 0.9112\n"
     ]
    }
   ],
   "source": [
    "# Accuracy and F1\n",
    "acc_lora = accuracy_score(y_true_lora, y_pred_lora)\n",
    "f1_lora = f1_score(y_true_lora, y_pred_lora)\n",
    "\n",
    "print(f\"PEFT-LORA Accuracy: {acc_lora:.4f}\")\n",
    "print(f\"PEFT-LORA F1 Score: {f1_lora:.4f}\")"
   ]
  },
  {
   "cell_type": "code",
   "execution_count": 52,
   "id": "392b9043",
   "metadata": {},
   "outputs": [
    {
     "data": {
      "image/png": "[encoded data removed]",
      "text/plain": [
       "<Figure size 400x300 with 1 Axes>"
      ]
     },
     "metadata": {},
     "output_type": "display_data"
    }
   ],
   "source": [
    "plot_confusion_matrix(y_true_lora, y_pred_lora, \"PEFT : LORA\")"
   ]
  },
  {
   "cell_type": "code",
   "execution_count": 53,
   "id": "cc5be949",
   "metadata": {},
   "outputs": [
    {
     "data": {
      "text/html": [
       "<div>\n",
       "<style scoped>\n",
       "    .dataframe tbody tr th:only-of-type {\n",
       "        vertical-align: middle;\n",
       "    }\n",
       "\n",
       "    .dataframe tbody tr th {\n",
       "        vertical-align: top;\n",
       "    }\n",
       "\n",
       "    .dataframe thead th {\n",
       "        text-align: right;\n",
       "    }\n",
       "</style>\n",
       "<table border=\"1\" class=\"dataframe\">\n",
       "  <thead>\n",
       "    <tr style=\"text-align: right;\">\n",
       "      <th></th>\n",
       "      <th>Method</th>\n",
       "      <th>Trainable Parameters (Mil)</th>\n",
       "      <th>Trainable Parameters (%)</th>\n",
       "      <th>Training Time / Epoch (s)</th>\n",
       "      <th>Inference Time (s)</th>\n",
       "      <th>ModelParams_GPUMemoryUsage (MB)</th>\n",
       "      <th>PeakGPUMemoryUsage (MB)</th>\n",
       "      <th>Accuracy</th>\n",
       "      <th>F1 Score</th>\n",
       "    </tr>\n",
       "  </thead>\n",
       "  <tbody>\n",
       "    <tr>\n",
       "      <th>0</th>\n",
       "      <td>Zero-shot (Baseline)</td>\n",
       "      <td>110.00</td>\n",
       "      <td>100.00</td>\n",
       "      <td>NA</td>\n",
       "      <td>166.22</td>\n",
       "      <td>417.66</td>\n",
       "      <td>NA</td>\n",
       "      <td>0.5422</td>\n",
       "      <td>0.6565</td>\n",
       "    </tr>\n",
       "    <tr>\n",
       "      <th>1</th>\n",
       "      <td>Adapter</td>\n",
       "      <td>2.11</td>\n",
       "      <td>1.89</td>\n",
       "      <td>342.32</td>\n",
       "      <td>172.02</td>\n",
       "      <td>425.70</td>\n",
       "      <td>9004.01</td>\n",
       "      <td>0.9182</td>\n",
       "      <td>0.9187</td>\n",
       "    </tr>\n",
       "    <tr>\n",
       "      <th>2</th>\n",
       "      <td>LORA</td>\n",
       "      <td>0.45</td>\n",
       "      <td>0.41</td>\n",
       "      <td>373.14</td>\n",
       "      <td>175.44</td>\n",
       "      <td>419.35</td>\n",
       "      <td>10936.2</td>\n",
       "      <td>0.9110</td>\n",
       "      <td>0.9112</td>\n",
       "    </tr>\n",
       "  </tbody>\n",
       "</table>\n",
       "</div>"
      ],
      "text/plain": [
       "                 Method  Trainable Parameters (Mil)  Trainable Parameters (%)  \\\n",
       "0  Zero-shot (Baseline)                      110.00                    100.00   \n",
       "1               Adapter                        2.11                      1.89   \n",
       "2                  LORA                        0.45                      0.41   \n",
       "\n",
       "  Training Time / Epoch (s)  Inference Time (s)  \\\n",
       "0                        NA              166.22   \n",
       "1                    342.32              172.02   \n",
       "2                    373.14              175.44   \n",
       "\n",
       "   ModelParams_GPUMemoryUsage (MB) PeakGPUMemoryUsage (MB)  Accuracy  F1 Score  \n",
       "0                           417.66                      NA    0.5422    0.6565  \n",
       "1                           425.70                 9004.01    0.9182    0.9187  \n",
       "2                           419.35                 10936.2    0.9110    0.9112  "
      ]
     },
     "execution_count": 53,
     "metadata": {},
     "output_type": "execute_result"
    }
   ],
   "source": [
    "# Append results\n",
    "explog_df = pd.concat([\n",
    "    explog_df,\n",
    "    pd.DataFrame([{\n",
    "        \"Method\": \"LORA\",\n",
    "        \"Trainable Parameters (Mil)\": round(train_lora,2),\n",
    "        \"Trainable Parameters (%)\": round(trainable_lora,2),        \n",
    "        \"Training Time / Epoch (s)\": round(train_time_lora, 2),\n",
    "        \"Inference Time (s)\": round(inference_time_lora, 2),\n",
    "        \"ModelParams_GPUMemoryUsage (MB)\": round(weights_mem_lora,2),\n",
    "        \"PeakGPUMemoryUsage (MB)\": round(peak_mem_lora,2),\n",
    "        \"Accuracy\": round(acc_lora, 4),\n",
    "        \"F1 Score\": round(f1_lora, 4)\n",
    "    }])\n",
    "], ignore_index=True)\n",
    "\n",
    "explog_df"
   ]
  },
  {
   "cell_type": "markdown",
   "id": "5024f0fc",
   "metadata": {},
   "source": [
    "## PEFT 3 - QLORA\n",
    "\n",
    "- QLORA is LORA where the pre-trained LLM is quantized so that its memory needs are reduced/optmized. \n",
    "- QLORA original method as per the scientific publication has a lot of innovations like a new datatype - NormalFLoat (4bit), Optimized pagering etc. "
   ]
  },
  {
   "cell_type": "code",
   "execution_count": 54,
   "id": "c4d4c908",
   "metadata": {},
   "outputs": [
    {
     "name": "stderr",
     "output_type": "stream",
     "text": [
      "`low_cpu_mem_usage` was None, now default to True since model is quantized.\n",
      "Some weights of BertForSequenceClassification were not initialized from the model checkpoint at bert-base-uncased and are newly initialized: ['classifier.bias', 'classifier.weight']\n",
      "You should probably TRAIN this model on a down-stream task to be able to use it for predictions and inference.\n"
     ]
    }
   ],
   "source": [
    "from transformers import BertForSequenceClassification, BitsAndBytesConfig\n",
    "\n",
    "# QLoRA bnb configuration\n",
    "bnb_config = BitsAndBytesConfig(\n",
    "    load_in_4bit=True,\n",
    "    bnb_4bit_use_double_quant=True,\n",
    "    bnb_4bit_quant_type=\"nf4\",\n",
    "    bnb_4bit_compute_dtype=torch.bfloat16\n",
    ")\n",
    "\n",
    "model_id = \"bert-base-uncased\"\n",
    "\n",
    "# Initialize the model with quantization\n",
    "model_quantized = BertForSequenceClassification.from_pretrained(model_id, \n",
    "                                                        num_labels=2,\n",
    "                                                        quantization_config=bnb_config)  # bnb config which quantizes the model as needed"
   ]
  },
  {
   "cell_type": "code",
   "execution_count": 55,
   "id": "ee97e930",
   "metadata": {},
   "outputs": [],
   "source": [
    "from peft import prepare_model_for_kbit_training\n",
    "\n",
    "model_quantized.gradient_checkpointing_enable()\n",
    "model_quantized = prepare_model_for_kbit_training(model_quantized)"
   ]
  },
  {
   "cell_type": "code",
   "execution_count": 56,
   "id": "223ec8c0",
   "metadata": {},
   "outputs": [],
   "source": [
    "from peft import get_peft_model, LoraConfig\n",
    "\n",
    "# LoRA setup (same as LoRA config above)\n",
    "lora_config = LoraConfig(r=8, \n",
    "                        lora_alpha=32,  # Scaling factor\n",
    "                        target_modules=[\"query\", \"key\", \"value\"], \n",
    "                        lora_dropout=0.1,\n",
    "                        task_type=\"SEQ_CLS\")\n",
    "\n",
    "# Integrate LoRA with the quantized model\n",
    "model_qlora = get_peft_model(model_quantized, lora_config)"
   ]
  },
  {
   "cell_type": "code",
   "execution_count": 57,
   "id": "c45f75d6",
   "metadata": {},
   "outputs": [
    {
     "name": "stdout",
     "output_type": "stream",
     "text": [
      "QLORA Model Stats\n",
      "Model Weights memory footprint: 133.87989807128906 MB\n",
      " All params: 67165444 || Trainable params: 0.445444 || trainable%: 0.6632041321724904\n"
     ]
    }
   ],
   "source": [
    "weights_mem_qlora = model_qlora.get_memory_footprint() / (1024 ** 2)\n",
    "print(\"QLORA Model Stats\")\n",
    "print(f\"Model Weights memory footprint: {weights_mem_qlora} MB\")\n",
    "\n",
    "trainable_params = calc_trainable_parameters(model_qlora)\n",
    "all_qlora, train_qlora, trainable_qlora, = trainable_params[0], trainable_params[1]/1000000, trainable_params[2]\n",
    "print(f\" All params: {all_qlora} || Trainable params: {train_qlora} || trainable%: {trainable_qlora}\" )"
   ]
  },
  {
   "cell_type": "code",
   "execution_count": 58,
   "id": "7450edbf",
   "metadata": {},
   "outputs": [
    {
     "name": "stderr",
     "output_type": "stream",
     "text": [
      "/tmp/ipykernel_205/3047010657.py:17: FutureWarning: `tokenizer` is deprecated and will be removed in version 5.0.0 for `Trainer.__init__`. Use `processing_class` instead.\n",
      "  trainer_qlora = Trainer(\n"
     ]
    }
   ],
   "source": [
    "from transformers import Trainer, TrainingArguments, EvalPrediction\n",
    "\n",
    "# TrainingArguments\n",
    "training_args = TrainingArguments(\n",
    "    output_dir=\"./output\",\n",
    "    eval_strategy=\"no\", \n",
    "    per_device_train_batch_size=16,\n",
    "    per_device_eval_batch_size=16,\n",
    "    num_train_epochs=num_epoch,\n",
    "    learning_rate=1e-4,    \n",
    "    weight_decay=0.01,\n",
    "    logging_steps=100,\n",
    ")\n",
    "\n",
    "# Trainer setup\n",
    "trainer_qlora = Trainer(\n",
    "    model=model_qlora,\n",
    "    args=training_args,\n",
    "    train_dataset=tokenized_train, \n",
    "    eval_dataset=None, \n",
    "    tokenizer=tokenizer,\n",
    ")"
   ]
  },
  {
   "cell_type": "code",
   "execution_count": 59,
   "id": "0eb1e329",
   "metadata": {},
   "outputs": [
    {
     "data": {
      "text/html": [
       "\n",
       "    <div>\n",
       "      \n",
       "      <progress value='939' max='939' style='width:300px; height:20px; vertical-align: middle;'></progress>\n",
       "      [939/939 27:06, Epoch 3/3]\n",
       "    </div>\n",
       "    <table border=\"1\" class=\"dataframe\">\n",
       "  <thead>\n",
       " <tr style=\"text-align: left;\">\n",
       "      <th>Step</th>\n",
       "      <th>Training Loss</th>\n",
       "    </tr>\n",
       "  </thead>\n",
       "  <tbody>\n",
       "    <tr>\n",
       "      <td>100</td>\n",
       "      <td>0.657600</td>\n",
       "    </tr>\n",
       "    <tr>\n",
       "      <td>200</td>\n",
       "      <td>0.375400</td>\n",
       "    </tr>\n",
       "    <tr>\n",
       "      <td>300</td>\n",
       "      <td>0.289200</td>\n",
       "    </tr>\n",
       "    <tr>\n",
       "      <td>400</td>\n",
       "      <td>0.248200</td>\n",
       "    </tr>\n",
       "    <tr>\n",
       "      <td>500</td>\n",
       "      <td>0.264200</td>\n",
       "    </tr>\n",
       "    <tr>\n",
       "      <td>600</td>\n",
       "      <td>0.226100</td>\n",
       "    </tr>\n",
       "    <tr>\n",
       "      <td>700</td>\n",
       "      <td>0.243700</td>\n",
       "    </tr>\n",
       "    <tr>\n",
       "      <td>800</td>\n",
       "      <td>0.223800</td>\n",
       "    </tr>\n",
       "    <tr>\n",
       "      <td>900</td>\n",
       "      <td>0.210200</td>\n",
       "    </tr>\n",
       "  </tbody>\n",
       "</table><p>"
      ],
      "text/plain": [
       "<IPython.core.display.HTML object>"
      ]
     },
     "metadata": {},
     "output_type": "display_data"
    },
    {
     "name": "stdout",
     "output_type": "stream",
     "text": [
      "Fine Tuning with QLORA:\n",
      "Training time: 542.79 seconds\n",
      "Peak Memory Used: 3639.52880859375\n"
     ]
    }
   ],
   "source": [
    "# Fine Tuning with QLora\n",
    "\n",
    "# logging\n",
    "start_time = time.time()\n",
    "torch.cuda.reset_peak_memory_stats()\n",
    "\n",
    "trainer_qlora.train()\n",
    "\n",
    "print(f\"Fine Tuning with QLORA:\")\n",
    "train_time_qlora = (time.time() - start_time) / num_epoch\n",
    "print(f\"Training time: {(train_time_qlora):.2f} seconds\")\n",
    "\n",
    "peak_mem_qlora = torch.cuda.max_memory_allocated() / (1024 ** 2)  # max memory in MB\n",
    "print(f\"Peak Memory Used: {peak_mem_qlora}\")"
   ]
  },
  {
   "cell_type": "code",
   "execution_count": 60,
   "id": "992a0e91",
   "metadata": {},
   "outputs": [],
   "source": [
    "# save model, weights and config\n",
    "model_qlora.save_pretrained(\"./saved_models/qlora\")"
   ]
  },
  {
   "cell_type": "code",
   "execution_count": 61,
   "id": "4625f6b3",
   "metadata": {},
   "outputs": [
    {
     "name": "stderr",
     "output_type": "stream",
     "text": [
      "`low_cpu_mem_usage` was None, now default to True since model is quantized.\n",
      "Some weights of BertForSequenceClassification were not initialized from the model checkpoint at bert-base-uncased and are newly initialized: ['classifier.bias', 'classifier.weight']\n",
      "You should probably TRAIN this model on a down-stream task to be able to use it for predictions and inference.\n",
      "/tmp/ipykernel_205/2566564237.py:27: FutureWarning: `tokenizer` is deprecated and will be removed in version 5.0.0 for `Trainer.__init__`. Use `processing_class` instead.\n",
      "  trainer_qlora2 = Trainer(\n"
     ]
    }
   ],
   "source": [
    "# Reload model \n",
    "from transformers import BertForSequenceClassification, AutoTokenizer, BitsAndBytesConfig\n",
    "from peft import PeftModel\n",
    "\n",
    "# Load tokenizer\n",
    "tokenizer2 = AutoTokenizer.from_pretrained(\"./saved_models\")\n",
    "\n",
    "# Note: Must rebuild base model with bnb config for reloading saved model\n",
    "# Rebuild bnb config \n",
    "bnb_config = BitsAndBytesConfig(\n",
    "    load_in_4bit=True,\n",
    "    bnb_4bit_use_double_quant=True,\n",
    "    bnb_4bit_quant_type=\"nf4\",\n",
    "    bnb_4bit_compute_dtype=torch.bfloat16)\n",
    "\n",
    "# Load base model\n",
    "base_model = BertForSequenceClassification.from_pretrained(\"bert-base-uncased\",\n",
    "                                                           num_labels=2,\n",
    "                                                           quantization_config=bnb_config )\n",
    "\n",
    "# Load my QLoRA weights into quantized model\n",
    "model_qlora2 = PeftModel.from_pretrained(base_model, \"./saved_models/qlora\")\n",
    "\n",
    "trainer_qlora2 = Trainer(\n",
    "    model=model_qlora2,\n",
    "    args=training_args,\n",
    "    tokenizer=tokenizer2,\n",
    "    eval_dataset=None)"
   ]
  },
  {
   "cell_type": "code",
   "execution_count": 62,
   "id": "c9d70e0b",
   "metadata": {},
   "outputs": [
    {
     "data": {
      "text/html": [],
      "text/plain": [
       "<IPython.core.display.HTML object>"
      ]
     },
     "metadata": {},
     "output_type": "display_data"
    },
    {
     "name": "stdout",
     "output_type": "stream",
     "text": [
      "Inference time: 206.07 seconds\n"
     ]
    }
   ],
   "source": [
    "# Inference\n",
    "\n",
    "start_time = time.time()\n",
    "\n",
    "# Predictions using the trained QLoRA model\n",
    "predictions_qlora = trainer_qlora2.predict(tokenized_test)\n",
    "\n",
    "# Predictions\n",
    "logits_qlora = predictions_qlora.predictions\n",
    "y_pred_qlora = np.argmax(logits_qlora, axis=1)\n",
    "\n",
    "# True labels\n",
    "y_true_qlora = np.array(tokenized_test[\"labels\"])\n",
    "\n",
    "end_time = time.time()\n",
    "inference_time_qlora = end_time - start_time\n",
    "print(f\"Inference time: {inference_time_qlora:.2f} seconds\")\n"
   ]
  },
  {
   "cell_type": "code",
   "execution_count": 63,
   "id": "1ba2f018",
   "metadata": {},
   "outputs": [
    {
     "name": "stdout",
     "output_type": "stream",
     "text": [
      "PEFT-QLORA Accuracy: 0.9098\n",
      "PEFT-QLORA F1 Score: 0.9100\n"
     ]
    }
   ],
   "source": [
    "# Accuracy and F1\n",
    "acc_qlora = accuracy_score(y_true_qlora, y_pred_qlora)\n",
    "f1_qlora = f1_score(y_true_qlora, y_pred_qlora)\n",
    "print(f\"PEFT-QLORA Accuracy: {acc_qlora:.4f}\")\n",
    "print(f\"PEFT-QLORA F1 Score: {f1_qlora:.4f}\")\n"
   ]
  },
  {
   "cell_type": "code",
   "execution_count": 64,
   "id": "1bf4de69",
   "metadata": {},
   "outputs": [
    {
     "data": {
      "image/png": "[encoded data removed]",
      "text/plain": [
       "<Figure size 400x300 with 1 Axes>"
      ]
     },
     "metadata": {},
     "output_type": "display_data"
    }
   ],
   "source": [
    "plot_confusion_matrix(y_true_qlora, y_pred_qlora,\"PEFT : QLORA\")"
   ]
  },
  {
   "cell_type": "code",
   "execution_count": 65,
   "id": "5207bdde",
   "metadata": {},
   "outputs": [
    {
     "data": {
      "text/html": [
       "<div>\n",
       "<style scoped>\n",
       "    .dataframe tbody tr th:only-of-type {\n",
       "        vertical-align: middle;\n",
       "    }\n",
       "\n",
       "    .dataframe tbody tr th {\n",
       "        vertical-align: top;\n",
       "    }\n",
       "\n",
       "    .dataframe thead th {\n",
       "        text-align: right;\n",
       "    }\n",
       "</style>\n",
       "<table border=\"1\" class=\"dataframe\">\n",
       "  <thead>\n",
       "    <tr style=\"text-align: right;\">\n",
       "      <th></th>\n",
       "      <th>Method</th>\n",
       "      <th>Trainable Parameters (Mil)</th>\n",
       "      <th>Trainable Parameters (%)</th>\n",
       "      <th>Training Time / Epoch (s)</th>\n",
       "      <th>Inference Time (s)</th>\n",
       "      <th>ModelParams_GPUMemoryUsage (MB)</th>\n",
       "      <th>PeakGPUMemoryUsage (MB)</th>\n",
       "      <th>Accuracy</th>\n",
       "      <th>F1 Score</th>\n",
       "    </tr>\n",
       "  </thead>\n",
       "  <tbody>\n",
       "    <tr>\n",
       "      <th>0</th>\n",
       "      <td>Zero-shot (Baseline)</td>\n",
       "      <td>110.00</td>\n",
       "      <td>100.00</td>\n",
       "      <td>NA</td>\n",
       "      <td>166.22</td>\n",
       "      <td>417.66</td>\n",
       "      <td>NA</td>\n",
       "      <td>0.5422</td>\n",
       "      <td>0.6565</td>\n",
       "    </tr>\n",
       "    <tr>\n",
       "      <th>1</th>\n",
       "      <td>Adapter</td>\n",
       "      <td>2.11</td>\n",
       "      <td>1.89</td>\n",
       "      <td>342.32</td>\n",
       "      <td>172.02</td>\n",
       "      <td>425.70</td>\n",
       "      <td>9004.01</td>\n",
       "      <td>0.9182</td>\n",
       "      <td>0.9187</td>\n",
       "    </tr>\n",
       "    <tr>\n",
       "      <th>2</th>\n",
       "      <td>LORA</td>\n",
       "      <td>0.45</td>\n",
       "      <td>0.41</td>\n",
       "      <td>373.14</td>\n",
       "      <td>175.44</td>\n",
       "      <td>419.35</td>\n",
       "      <td>10936.2</td>\n",
       "      <td>0.9110</td>\n",
       "      <td>0.9112</td>\n",
       "    </tr>\n",
       "    <tr>\n",
       "      <th>3</th>\n",
       "      <td>QLORA</td>\n",
       "      <td>0.45</td>\n",
       "      <td>0.66</td>\n",
       "      <td>542.79</td>\n",
       "      <td>206.07</td>\n",
       "      <td>133.88</td>\n",
       "      <td>3639.53</td>\n",
       "      <td>0.9098</td>\n",
       "      <td>0.9100</td>\n",
       "    </tr>\n",
       "  </tbody>\n",
       "</table>\n",
       "</div>"
      ],
      "text/plain": [
       "                 Method  Trainable Parameters (Mil)  Trainable Parameters (%)  \\\n",
       "0  Zero-shot (Baseline)                      110.00                    100.00   \n",
       "1               Adapter                        2.11                      1.89   \n",
       "2                  LORA                        0.45                      0.41   \n",
       "3                 QLORA                        0.45                      0.66   \n",
       "\n",
       "  Training Time / Epoch (s)  Inference Time (s)  \\\n",
       "0                        NA              166.22   \n",
       "1                    342.32              172.02   \n",
       "2                    373.14              175.44   \n",
       "3                    542.79              206.07   \n",
       "\n",
       "   ModelParams_GPUMemoryUsage (MB) PeakGPUMemoryUsage (MB)  Accuracy  F1 Score  \n",
       "0                           417.66                      NA    0.5422    0.6565  \n",
       "1                           425.70                 9004.01    0.9182    0.9187  \n",
       "2                           419.35                 10936.2    0.9110    0.9112  \n",
       "3                           133.88                 3639.53    0.9098    0.9100  "
      ]
     },
     "execution_count": 65,
     "metadata": {},
     "output_type": "execute_result"
    }
   ],
   "source": [
    "explog_df = pd.concat([\n",
    "    explog_df,\n",
    "    pd.DataFrame([{\n",
    "        \"Method\": \"QLORA\",\n",
    "        \"Trainable Parameters (Mil)\": round(train_qlora,2),\n",
    "        \"Trainable Parameters (%)\": round(trainable_qlora,2),\n",
    "        \"Training Time / Epoch (s)\": round(train_time_qlora, 2),\n",
    "        \"Inference Time (s)\": round(inference_time_qlora, 2),\n",
    "        \"ModelParams_GPUMemoryUsage (MB)\": round(weights_mem_qlora,2),\n",
    "        \"PeakGPUMemoryUsage (MB)\": round(peak_mem_qlora,2),\n",
    "        \"Accuracy\": round(acc_qlora, 4),\n",
    "        \"F1 Score\": round(f1_qlora, 4)\n",
    "    }])\n",
    "], ignore_index=True)\n",
    "\n",
    "explog_df"
   ]
  }
 ],
 "metadata": {
  "kernelspec": {
   "display_name": "Python 3 (ipykernel)",
   "language": "python",
   "name": "python3"
  },
  "language_info": {
   "codemirror_mode": {
    "name": "ipython",
    "version": 3
   },
   "file_extension": ".py",
   "mimetype": "text/x-python",
   "name": "python",
   "nbconvert_exporter": "python",
   "pygments_lexer": "ipython3",
   "version": "3.10.11"
  }
 },
 "nbformat": 4,
 "nbformat_minor": 5
}
